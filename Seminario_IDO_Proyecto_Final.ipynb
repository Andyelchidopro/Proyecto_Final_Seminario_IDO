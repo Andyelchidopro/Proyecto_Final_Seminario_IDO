{
  "cells": [
    {
      "cell_type": "markdown",
      "metadata": {
        "id": "fCfWK7LogxvN"
      },
      "source": [
        "# Nombre: Andrés Degollado Muñoz\n",
        "# Asignatura: Seminario de Investigación de Operaciones\n",
        "# Proyecto final: Minimización de ciclos hamiltonianos en gráficas bipartitas completas"
      ]
    },
    {
      "cell_type": "markdown",
      "metadata": {
        "id": "act2phWChNh3"
      },
      "source": [
        "# Funciones elementales"
      ]
    },
    {
      "cell_type": "code",
      "execution_count": null,
      "metadata": {
        "id": "VOUKu24n23Ws"
      },
      "outputs": [],
      "source": [
        "# Se importan las bibliotecas a usar.\n",
        "import itertools\n",
        "import numpy as np\n",
        "import random\n",
        "import math\n",
        "import time\n",
        "\n",
        "# Representa la lista de ciclos hamiltonianos de la gráfica K_{3,3}.\n",
        "lista_soluciones= [[0,1,2,3,4,5], [0,1,2,5,4,3], [0,3,2,1,4,5], [0,3,2,5,4,1], [0,5,2,1,4,3], [0,5,2,3,4,1]]\n",
        "\n",
        "# Esta función permite obtener los vecinos de una solución.\n",
        "def vecindad_proyecto(lista):\n",
        "    # Se crea una lista vacía para almacenar los vecinos.\n",
        "    vecindad = []\n",
        "    # Se eligen todos los vértices de la solución.\n",
        "    vecino = lista[:]\n",
        "    # Se extraen los elementos de las posiciones pares de la lista original.\n",
        "    pos_par = vecino[1::2]\n",
        "    # Se obtienen todas las permutaciones de los elementos de las posiciones pares.\n",
        "    perm_hechas = list(itertools.permutations(pos_par))\n",
        "    # Se iteran sobre las permutaciones obtenidas para devolver los vértices permutados.\n",
        "    for perm in perm_hechas:\n",
        "        # Se crea una copia del vecino actual.\n",
        "        nuevo_vecino = vecino[:]\n",
        "        # Se reemplazan los elementos pares por las permutaciones obtenidas.\n",
        "        nuevo_vecino[1::2] = perm\n",
        "        # Agrega el nuevo vecino a la vecindad.\n",
        "        vecindad.append(nuevo_vecino)\n",
        "    # Se elimina la solución original de la lista de vecinos.\n",
        "    vecindad.pop(0)\n",
        "    # Devuelve la vecindad generada.\n",
        "    return vecindad\n",
        "\n",
        "# Esta función genera la matriz de distancias para una gráfica bipartita,\n",
        "# teniendo en cuenta un rango limitado de coordenadas.\n",
        "def distancias_grafica_bipartita(tam_part_1, tam_part_2, rango=(0, 10)):\n",
        "    # Se generan aleatoriamente las coordenadas de los nodos en un espacio bidimensional,\n",
        "    # para cada subconjunto de la gráfica bipartita.\n",
        "    part_1_coord = np.random.uniform(rango[0], rango[1], (tam_part_1, 2))\n",
        "    part_2_coord = np.random.uniform(rango[0], rango[1], (tam_part_2, 2))\n",
        "\n",
        "    # Se determina el número total de vértices.\n",
        "    num_vertices = tam_part_1 + tam_part_2\n",
        "\n",
        "    # Se construye la matriz de distancias.\n",
        "    mat_dist = np.zeros((num_vertices, num_vertices))\n",
        "    for i in range(tam_part_1):\n",
        "        for j in range(tam_part_1, num_vertices):\n",
        "            # Se aplica la norma euclidiana para determinar el peso de cada arista.\n",
        "            distancia = np.linalg.norm(part_1_coord[i] - part_2_coord[j - tam_part_1])\n",
        "            # Se agregan las distancias a la matriz de distancias.\n",
        "            mat_dist[i, j] = distancia\n",
        "            # Ya que la matriz de distancias es simétrica.\n",
        "            mat_dist[j, i] = distancia\n",
        "\n",
        "    return mat_dist\n",
        "\n",
        "# Esta función evalúa la distancia total presente en un ciclo hamiltoniano.\n",
        "def distancia_ciclo(g,tour):\n",
        "        # Se suman las distancias entre cada par de vértices consecutivos,\n",
        "        # salvo el penúltimo vértice con el último.\n",
        "        dist = sum(g[tour[i]][tour[i+1]] for i in range(len(tour)-1))\n",
        "\n",
        "        # Se suma el peso (distancia) entre el penúltimo vértice y el último.\n",
        "        dist += g[tour[-1]][tour[0]]\n",
        "        return dist"
      ]
    },
    {
      "cell_type": "markdown",
      "metadata": {
        "id": "SEI1KxwNhaXX"
      },
      "source": [
        "# Códigos de las metaheurísticas"
      ]
    },
    {
      "cell_type": "code",
      "execution_count": null,
      "metadata": {
        "id": "Y4K_LIYpxv_v"
      },
      "outputs": [],
      "source": [
        "# Esta función representa la metaheurística de Búsqueda Localcon para encontrar el ciclo hamiltoniano de menor costo.\n",
        "def Busqueda_local(solucion_inicial, grafica, funcion_objetivo, vecindad):\n",
        "    \"\"\"\n",
        "    Parámetros:\n",
        "    solucion_inicial (list): La solución inicial a partir de la cual se realiza el recocido simulado.\n",
        "    grafica (object): La gráfica sobre la que se realiza el recocido simulado.\n",
        "    funcion_objetivo (fun): La función objetivo que se quiere minimizar.\n",
        "    vecindad (object): La vecindad que se va a trabajar en el proyecto.\n",
        "\n",
        "    Retorna:\n",
        "    mejor_solucion (list): La mejor solución encontrada.\n",
        "    mejor_valor (float): La distancia total de la mejor solución.\n",
        "    \"\"\"\n",
        "    # Se declara la solución inicial.\n",
        "    s = solucion_inicial\n",
        "    # Si la solución no es óptima de manera local, entonces encuentra una mejor solución.\n",
        "    while not optimo_local(s, grafica, funcion_objetivo, vecindad):\n",
        "        # Se hace la búsqueda de vecinos y se encuentra a un mejor vecino.\n",
        "        s_prim = encontrar_mejor_vecino(s, grafica, funcion_objetivo, vecindad)\n",
        "        # Declara al mejor vecino como la solución y lo devuelve.\n",
        "        s = s_prim\n",
        "    return s\n",
        "\n",
        "# Esta función compara una solución con sus vecinos y determina si es mejor o no.\n",
        "def optimo_local(s, grafica, funcion_objetivo, vecindad):\n",
        "    for s_prim in vecindad(s):\n",
        "        # Si la solución actual es peor que la del vecino, entonces regresa falso para que encuentre otro vecino.\n",
        "        if funcion_objetivo(grafica, s) > funcion_objetivo(grafica, s_prim):\n",
        "            return False\n",
        "    return True\n",
        "\n",
        "# Esta función selecciona a los mejores vecinos y selecciona uno aleatoriamente.\n",
        "def encontrar_mejor_vecino(s, grafica, funcion_objetivo, vecindad):\n",
        "    # Se raliza la filtración de los vecinos.\n",
        "    mejores_vecinos = [s_prim for s_prim in vecindad(s) if funcion_objetivo(grafica, s) > funcion_objetivo(grafica, s_prim)]\n",
        "    if mejores_vecinos:\n",
        "        # Se selecciona un vecino al azar, en caso de que haya encontrado.\n",
        "        return random.choice(mejores_vecinos)\n",
        "    else:\n",
        "        # De lo contrario, esto quiere decir que no se encontraron mejores vecinos.\n",
        "        return s"
      ]
    },
    {
      "cell_type": "code",
      "execution_count": null,
      "metadata": {
        "id": "2X9X-u6ZtONY"
      },
      "outputs": [],
      "source": [
        "# Esta función construye una solución utilizando la construcción V.\n",
        "def construccion_v(tours, grafica, funcion_objetivo, alpha):\n",
        "    # Se calcula el valor objetivo de todos los tours.\n",
        "    valores_tours = [(tour, funcion_objetivo(grafica, tour)) for tour in tours]\n",
        "\n",
        "    # Se calculan las distancias mínima y máxima.\n",
        "    distancias = [valor for _, valor in valores_tours]\n",
        "    min_distancia = min(distancias)\n",
        "    max_distancia = max(distancias)\n",
        "\n",
        "    # Se crea la cota superior de la construcción V.\n",
        "    cota = min_distancia + alpha * (max_distancia - min_distancia)\n",
        "    # Crea la lista restringida de candidatos.\n",
        "    lrc = [tour for tour, valor in valores_tours if valor <= cota]\n",
        "\n",
        "    # Selecciona aleatoriamente un tour de la lista restringida de candidatos.\n",
        "    tour_seleccionado = random.choice(lrc)\n",
        "\n",
        "    return tour_seleccionado\n",
        "\n",
        "# Esta función representa el método de GRASP con la construcción V para encontrar el ciclo hamiltoniano de menor costo.\n",
        "def grasp_v(grafica, tours, funcion_objetivo, vecindad, max_iter, alpha):\n",
        "    \"\"\"\n",
        "    Parámetros:\n",
        "    grafica (object): La gráfica sobre la que se realiza la búsqueda.\n",
        "    tours (object): El espacio de búsqueda (todos los ciclos hamiltonianos que hay en la gráfica).\n",
        "    funcion_objetivo (función): La función objetivo que se quiere minimizar.\n",
        "    vecindad (función): La función que genera los vecinos de una solución.\n",
        "    max_iter (int): Número máximo de iteraciones (default: 100).\n",
        "    alpha (float): Valor de filtración de la lista restringida de candidatos.\n",
        "\n",
        "    Retorna:\n",
        "    mejor_solucion (list): La mejor solución encontrada.\n",
        "    mejor_valor (float): La distancia total de la mejor solución.\n",
        "    \"\"\"\n",
        "    mejor_solucion = None\n",
        "    mejor_valor = float('inf')\n",
        "\n",
        "    for _ in range(max_iter):\n",
        "        # Se utiliza la construcción V para obtener la solución inicial.\n",
        "        solucion_actual = construccion_v(tours, grafica, funcion_objetivo, alpha)\n",
        "        # Se aplica la Búsqueda Local a la solución inicial.\n",
        "        #solucion_actual = Busqueda_local(solucion_inicial, grafica, funcion_objetivo, vecindad)\n",
        "        # Se evalúa si la solución actual es mejor que la mejor solución encontrada hasta ahora.\n",
        "        valor_actual = funcion_objetivo(grafica, solucion_actual)\n",
        "        if valor_actual < mejor_valor:\n",
        "            # Se actualiza la mejor solución.\n",
        "            mejor_solucion = solucion_actual\n",
        "            # Se actualiza el mejor valor.\n",
        "            mejor_valor = valor_actual\n",
        "\n",
        "    return mejor_solucion, mejor_valor"
      ]
    },
    {
      "cell_type": "code",
      "execution_count": null,
      "metadata": {
        "id": "125G1JWDjYV2"
      },
      "outputs": [],
      "source": [
        "# Esta función representa el método de recocido simulado para encontrar el ciclo hamiltoniano de menor costo.\n",
        "def Recocido_simulado(solucion_inicial, grafica, funcion_objetivo, t0, alpha, NREP, tf):\n",
        "    \"\"\"\n",
        "    Parámetros:\n",
        "    solucion_inicial (list): La solución inicial a partir de la cual se realiza el recocido simulado.\n",
        "    grafica (object): La gráfica sobre la que se realiza el recocido simulado.\n",
        "    funcion_objetivo (fun): La función objetivo que se quiere minimizar.\n",
        "    t0 (float): La temperatura inicial del sistema.\n",
        "    alpha(float): El factor de enfriamiento que controla cómo disminuye la temperatura en cada iteración.\n",
        "    NREP (int): El número de iteraciones a realizar a cada temperatura.\n",
        "    tf (float): La temperatura final del sistema.\n",
        "\n",
        "    Retorna:\n",
        "    mejor_solucion (list): La mejor solución encontrada.\n",
        "    mejor_valor (float): La distancia total de la mejor solución.\n",
        "    \"\"\"\n",
        "\n",
        "    # Se iguala la mejor solución con la solución inicial.\n",
        "    mejor_solucion = solucion_inicial\n",
        "    # Se evalúa dicha solución en la función objetivo.\n",
        "    mejor_valor = funcion_objetivo(grafica, mejor_solucion)\n",
        "    # Se iguala la temperatura inicial con la actual.\n",
        "    temperatura_actual = t0\n",
        "\n",
        "    # Mientras la temperatura actual sea mayor a la temperatura final.\n",
        "    while temperatura_actual > tf:\n",
        "        # Se aplica el criterio de paro (número de iteraciones).\n",
        "        for _ in range(NREP):\n",
        "            # Se escoge aleatoriamente un vecino de la solución.\n",
        "            vecino = random.choice(vecindad_proyecto(mejor_solucion))\n",
        "            # Se obtiene la distancia total de la solución vecina.\n",
        "            valor_vecino = funcion_objetivo(grafica, vecino)\n",
        "            # Se aplica la diferencia entre el valor del vecino y el valor de la \"mejor solución\".\n",
        "            diferencia = valor_vecino - mejor_valor\n",
        "            # Si la diferencia es negativa, se actualiza el vecino como mejor solución y el mejor valor.\n",
        "            if diferencia < 0:\n",
        "                mejor_solucion = vecino\n",
        "                mejor_valor = valor_vecino\n",
        "            # Si el número aleatorio generado entre cero y uno es menor al factor de Boltzmann,\n",
        "            # se actualiza el vecino como mejor solución y el mejor valor.\n",
        "            elif random.random() < math.exp(-diferencia / temperatura_actual):\n",
        "                mejor_solucion = vecino\n",
        "                mejor_valor = valor_vecino\n",
        "\n",
        "        # Se actualiza la temperatura actual.\n",
        "        temperatura_actual *= alpha\n",
        "\n",
        "    return mejor_solucion, mejor_valor"
      ]
    },
    {
      "cell_type": "code",
      "execution_count": null,
      "metadata": {
        "id": "5PtLIh8404uA"
      },
      "outputs": [],
      "source": [
        "# Esta función representa el método de búsqueda tabú para encontrar el ciclo hamiltoniano de menor costo.\n",
        "def Busqueda_tabu(solucion_inicial, grafica, funcion_objetivo, lista_tabu, max_iter, iter_proh):\n",
        "    \"\"\"\n",
        "    Implementa la búsqueda tabú para encontrar una mejor solución.\n",
        "\n",
        "    Parámetros:\n",
        "    solucion_inicial (list): La solución inicial a partir de la cual se realiza la búsqueda tabú.\n",
        "    grafica (object): La gráfica sobre la que se realiza la búsqueda.\n",
        "    funcion_objetivo (fun): La función objetivo que se quiere minimizar.\n",
        "    lista_tabu (list): La lista tabú que contiene las soluciones prohibidas.\n",
        "    max_iter (int): Número máximo de iteraciones.\n",
        "    iter_proh (int): Número de iteraciones prohibidas para una solución perteneciente a la lista tabú.\n",
        "\n",
        "    Retorna:\n",
        "    mejor_solucion (list): La mejor solución encontrada.\n",
        "    mejor_valor (float): La distancia total de la mejor solución.\n",
        "    \"\"\"\n",
        "\n",
        "    # Se iguala la mejor solución con la solución inicial\n",
        "    mejor_solucion = solucion_inicial\n",
        "    # Se evalúa dicha solución en la función objetivo.\n",
        "    mejor_valor = funcion_objetivo(grafica, mejor_solucion)\n",
        "    # Se crea un índice auxiliar para las iteraciones.\n",
        "    iteracion_actual = 0\n",
        "    # Mientras la iteración actual sea menor al máximo número de iteraciones.\n",
        "    while iteracion_actual < max_iter:\n",
        "        # Se genera la vecindad de la solución actual.\n",
        "        vecindario = vecindad_proyecto(mejor_solucion)\n",
        "        # Se evalúan todas las soluciones en el vecindario.\n",
        "        for vecino in vecindario:\n",
        "            # Si el vecino no está en la lista tabú, se obtiene su distancia total.\n",
        "            if vecino not in lista_tabu:\n",
        "                valor_vecino = funcion_objetivo(grafica, vecino)\n",
        "                # Si el valor del vecino es mejor que el valor actual, se actualiza\n",
        "                # la mejor solución y su mejor valor.\n",
        "                if valor_vecino < mejor_valor:\n",
        "                    mejor_solucion = vecino\n",
        "                    mejor_valor = valor_vecino\n",
        "\n",
        "        # Se actualiza la lista tabú.\n",
        "        lista_tabu.append(mejor_solucion)\n",
        "        # Se aplica la prohibición por la cantidad iteraciones definidas por el usuario.\n",
        "        if len(lista_tabu) > iter_proh:\n",
        "            lista_tabu.pop(0)\n",
        "\n",
        "        # Se actualiza el iterador.\n",
        "        iteracion_actual += 1\n",
        "\n",
        "    return mejor_solucion, mejor_valor"
      ]
    },
    {
      "cell_type": "code",
      "execution_count": null,
      "metadata": {
        "id": "JMDM0-av1bun"
      },
      "outputs": [],
      "source": [
        "# Esta función crea una población inicial a partir de tours totales.\n",
        "def crear_poblacion(tours_totales, tam_poblacion):\n",
        "    # Se crea la población inicial seleccionando aleatoriamente cierta cantidad de tours.\n",
        "    poblacion = random.sample(tours_totales, tam_poblacion)\n",
        "    return poblacion\n",
        "\n",
        "# Esta función representa la selección por ruleta\n",
        "def seleccion_ruleta(poblacion, fitness):\n",
        "    # Se calcula la suma total de los valores de aptitud de toda la población.\n",
        "    max_fit = sum(fitness)\n",
        "    # Se genera un número aleatorio entre 0 y la suma total de aptitudes.\n",
        "    selecto = random.uniform(0, max_fit)\n",
        "    # Se inicializa una variable acumulativa para recorrer los valores de aptitud.\n",
        "    actual = 0\n",
        "    for i, individuo in enumerate(poblacion):\n",
        "        # Se itera sobre la población, sumando los valores de aptitud acumulativamente.\n",
        "        actual += fitness[i]\n",
        "        # Si el valor acumulado supera el número aleatorio generado,\n",
        "        # se selecciona el individuo actual.\n",
        "        if actual > selecto:\n",
        "            return individuo\n",
        "\n",
        "# Esta función representa el cruce que sucede\n",
        "# al intercambiar vértices en posiciones pares\n",
        "def cruce(padre1, padre2):\n",
        "    # Calcula la longitud del primer padre.\n",
        "    n = len(padre1)\n",
        "    # Crea una lista llamada hijo de longitud n y la inicializa con -1 en todas las posiciones.\n",
        "    # Esta lista representará al hijo resultante del cruce y -1 indica una posición no asignada.\n",
        "    hijo = [-1] * n\n",
        "    # Itera sobre los índices pares del primer padre e iguala los valores del padre al hijo.\n",
        "    for i in range(0, n, 2):\n",
        "        hijo[i] = padre1[i]\n",
        "    # Itera sobre todos los índices del segundo padre.\n",
        "    for i in range(n):\n",
        "        # Comprueba si el valor del segundo en la posición i no está ya presente en el hijo.\n",
        "        if padre2[i] not in hijo:\n",
        "            # De cumplirse la condición anterior, se inicia un ciclo interno que itera sobre los índices del hijo.\n",
        "            for j in range(n):\n",
        "                # Comprueba si la posición j en el hijo está todavía asignada a -1.\n",
        "                if hijo[j] == -1:\n",
        "                    # Si encuentra una posición -1, se asigna el valor del segundo padre en la posición i a esta posición j del hijo\n",
        "                    # y rompe el ciclo interno.\n",
        "                    hijo[j] = padre2[i]\n",
        "                    break\n",
        "    return hijo\n",
        "\n",
        "# Esta función representa la mutación que consiste en el intercambio solo en posiciones pares.\n",
        "def mutacion(individuo, tasa_mutacion):\n",
        "    # Itera solamente en las posiciones pares.\n",
        "    for i in range(0, len(individuo), 2):\n",
        "        # Si el número generado entre 0 y 1 es menor que la tasa de mutación\n",
        "        if random.random() < tasa_mutacion:\n",
        "            # Se hace un intercambio en las posiciones pares del individuo.\n",
        "            j = random.choice(range(0, len(individuo), 2))\n",
        "            individuo[i], individuo[j] = individuo[j], individuo[i]\n",
        "\n",
        "# Esta función representa el algoritmo genético para encontrar el ciclo hamiltoniano de menor costo.\n",
        "def algoritmo_genetico(g, tours_totales, tam_poblacion, num_generaciones, tasa_mutacion):\n",
        "    # Se escoge una solución inicial aleatoria.\n",
        "    solucion_inicial = random.choice(tours_totales)\n",
        "    # Se crea la población.\n",
        "    poblacion = crear_poblacion(tours_totales, tam_poblacion)\n",
        "    for _ in range(num_generaciones):\n",
        "        # Calcula el fitness de cada individuo en la población.\n",
        "        # El fitness es inversamente proporcional a la distancia del ciclo,\n",
        "        # con el fin de maximizar el número de individuos con la menor distancia.\n",
        "        fitness = [1 / distancia_ciclo(g, ind) for ind in poblacion]\n",
        "        # Se crea una lista vacía que representa a la nueva población.\n",
        "        nueva_poblacion = []\n",
        "        # El siguiente ciclo itera la mitad de las veces,\n",
        "        # ya que cada iteración del bucle generará dos nuevos hijos de la nueva población.\n",
        "        for _ in range(tam_poblacion // 2):\n",
        "            # Se aplica la selección por ruleta a ambos padres.\n",
        "            padre1 = seleccion_ruleta(poblacion, fitness)\n",
        "            padre2 = seleccion_ruleta(poblacion, fitness)\n",
        "            # Se aplica el cruce a los hijos.\n",
        "            hijo1 = cruce(padre1, padre2)\n",
        "            hijo2 = cruce(padre2, padre1)\n",
        "            # Se aplica la tasa de mutación a los hijos.\n",
        "            mutacion(hijo1, tasa_mutacion)\n",
        "            mutacion(hijo2, tasa_mutacion)\n",
        "            # Se añaden los dos nuevos individuos (hijos) a la lista nueva_población.\n",
        "            nueva_poblacion.extend([hijo1, hijo2])\n",
        "        # Se sustituye la población actual con la nueva población generada.\n",
        "        poblacion = nueva_poblacion\n",
        "    # Encuentra el mejor individuo en la población final.\n",
        "    # El mejor individuo es el que tiene la menor distancia del ciclo,\n",
        "    # usando la función objetivo como criterio.\n",
        "    mejor_individuo = min(poblacion, key=lambda ind: distancia_ciclo(g, ind))\n",
        "    # Encuentra el índice cero del mejor individuo.\n",
        "    indice_cero = mejor_individuo.index(0)\n",
        "    # Reorganiza la solución para que comience desde cero.\n",
        "    mejor_individuo_ordenado = mejor_individuo[indice_cero:] + mejor_individuo[:indice_cero]\n",
        "    return mejor_individuo_ordenado, distancia_ciclo(g, mejor_individuo)"
      ]
    },
    {
      "cell_type": "markdown",
      "metadata": {
        "id": "VIn8fy6Ehnhk"
      },
      "source": [
        "# Sección de pruebas de las metaheurísticas para la gráfica bipartita completa $K_{3,3}$"
      ]
    },
    {
      "cell_type": "markdown",
      "metadata": {
        "id": "-QCpZawIcvLL"
      },
      "source": [
        "## Código de la gráfica bipartita completa $K_{3,3}$"
      ]
    },
    {
      "cell_type": "code",
      "execution_count": null,
      "metadata": {
        "id": "zHtXaQV2c5sL"
      },
      "outputs": [],
      "source": [
        "# A continuación, se crea la matriz de distancias para la gráfica K_{3,3}.\n",
        "tam_part_1 = 3\n",
        "tam_part_2= 3\n",
        "grafica_bipartita_k_3 = distancias_grafica_bipartita(tam_part_1,tam_part_2)\n",
        "\n",
        "# Se define la lista de todos los posibles tours distintos en la gráfica $K_{3,3}$, con base en la matriz de distancias.\n",
        "tours_totales_3=vecindad_proyecto([0,3,1,4,2,5])\n",
        "tours_totales_3.append([0,3,1,4,2,5])"
      ]
    },
    {
      "cell_type": "markdown",
      "metadata": {
        "id": "k2NAdyvVkNC2"
      },
      "source": [
        "## Búsqueda Local y GRASP para la gráfica bipartita completa $K_{3,3}$"
      ]
    },
    {
      "cell_type": "code",
      "execution_count": null,
      "metadata": {
        "colab": {
          "base_uri": "https://localhost:8080/"
        },
        "id": "V0MilmOxkpA0",
        "outputId": "2b2ea448-3be6-48a7-db5f-1df180cbbed7"
      },
      "outputs": [
        {
          "name": "stdout",
          "output_type": "stream",
          "text": [
            "El ciclo hamiltoniano más corto con Búsqueda Local es [0, 4, 1, 5, 2, 3] cuya distancia total es 29.31419975276194 unidades.\n",
            "El tiempo de Búsqueda Local fue de 0.004396677017211914 segundos.  \n",
            "\n",
            "El ciclo hamiltoniano más corto con GRASP con Construcción V y alfa=0.3 es [0, 4, 1, 5, 2, 3] cuya distancia total es 29.31419975276194 unidades.\n",
            "El tiempo de GRASP con construcción V fue de 0.0017364025115966797 segundos.  \n",
            "\n",
            "El ciclo hamiltoniano más corto con GRASP con Construcción V y alfa=0.5 es [0, 4, 1, 5, 2, 3] cuya distancia total es 29.31419975276194 unidades.\n",
            "El tiempo de GRASP con construcción V fue de 0.0006041526794433594 segundos.  \n",
            "\n",
            "El ciclo hamiltoniano más corto con GRASP con Construcción V y alfa=0.7 es [0, 4, 1, 5, 2, 3] cuya distancia total es 29.31419975276194 unidades.\n",
            "El tiempo de GRASP con construcción V fue de 0.00048661231994628906 segundos.  \n",
            "\n",
            "El ciclo hamiltoniano más corto con GRASP con Construcción V y alfa=0.9 es [0, 4, 1, 5, 2, 3] cuya distancia total es 29.31419975276194 unidades.\n",
            "El tiempo de GRASP con construcción V fue de 0.0004470348358154297 segundos.  \n",
            "\n"
          ]
        }
      ],
      "source": [
        "# Búsqueda Local aplicada al problema.\n",
        "\n",
        "# Se calcula el tiempo inicial de la metaheurística.\n",
        "t_inicial_busqueda_local_k_3=time.time()\n",
        "# Se proporciona una solución inicial al azar.\n",
        "solucion_inicial_k_3 = random.choice(tours_totales_3)\n",
        "# Se obtiene una mejor solución, usando Búsqueda Local para cada una de las instancias.\n",
        "mejor_solucion_k_3 = Busqueda_local(solucion_inicial_k_3, grafica_bipartita_k_3, distancia_ciclo, vecindad_proyecto)\n",
        "# Se imprime la mejor solución y su distancia total.\n",
        "print(\"El ciclo hamiltoniano más corto con Búsqueda Local es\",mejor_solucion_k_3,\"cuya distancia total es\",distancia_ciclo(grafica_bipartita_k_3, mejor_solucion_k_3),\"unidades.\")\n",
        "# Se imprime el tiempo total del algoritmo.\n",
        "print(\"El tiempo de Búsqueda Local fue de %s segundos. \" % (time.time() - t_inicial_busqueda_local_k_3),\"\\n\")\n",
        "\n",
        "# GRASP con construcción V aplicado al problema.\n",
        "\n",
        "# Se calcula el tiempo inicial de la metaheurística para 10 iteraciones y alpha=0.3.\n",
        "t_inicial_grasp_v_k_3=time.time()\n",
        "# Se aplica el algoritmo al problema para la instancia seleccionada.\n",
        "mejor_solucion_grasp_v_k_3 = grasp_v(grafica_bipartita_k_3, tours_totales_3, distancia_ciclo, vecindad_proyecto, 10, 0.3)\n",
        "# Se imprime el resultado final.\n",
        "print(\"El ciclo hamiltoniano más corto con GRASP con Construcción V y alfa=0.3 es\",mejor_solucion_grasp_v_k_3[0],\n",
        "      \"cuya distancia total es\",mejor_solucion_grasp_v_k_3[1],\"unidades.\")\n",
        "# Se imprime el tiempo total del algoritmo.\n",
        "print(\"El tiempo de GRASP con construcción V fue de %s segundos. \" % (time.time() - t_inicial_grasp_v_k_3),\"\\n\")\n",
        "\n",
        "# Se calcula el tiempo inicial de la metaheurística para 10 iteraciones y alpha=0.5.\n",
        "t_inicial_grasp_v_k_3_2=time.time()\n",
        "# Se aplica el algoritmo al problema para la instancia seleccionada.\n",
        "mejor_solucion_grasp_v_k_3_2 = grasp_v(grafica_bipartita_k_3, tours_totales_3, distancia_ciclo, vecindad_proyecto, 10, 0.5)\n",
        "# Se imprime el resultado final.\n",
        "print(\"El ciclo hamiltoniano más corto con GRASP con Construcción V y alfa=0.5 es\",mejor_solucion_grasp_v_k_3_2[0],\n",
        "      \"cuya distancia total es\",mejor_solucion_grasp_v_k_3_2[1],\"unidades.\")\n",
        "# Se imprime el tiempo total del algoritmo.\n",
        "print(\"El tiempo de GRASP con construcción V fue de %s segundos. \" % (time.time() - t_inicial_grasp_v_k_3_2),\"\\n\")\n",
        "\n",
        "# Se calcula el tiempo inicial de la metaheurística para 10 iteraciones y alpha=0.7.\n",
        "t_inicial_grasp_v_k_3_3=time.time()\n",
        "# Se aplica el algoritmo al problema para la instancia seleccionada.\n",
        "mejor_solucion_grasp_v_k_3_3 = grasp_v(grafica_bipartita_k_3, tours_totales_3, distancia_ciclo, vecindad_proyecto, 10, 0.7)\n",
        "# Se imprime el resultado final.\n",
        "print(\"El ciclo hamiltoniano más corto con GRASP con Construcción V y alfa=0.7 es\",mejor_solucion_grasp_v_k_3_3[0],\n",
        "      \"cuya distancia total es\",mejor_solucion_grasp_v_k_3_3[1],\"unidades.\")\n",
        "# Se imprime el tiempo total del algoritmo.\n",
        "print(\"El tiempo de GRASP con construcción V fue de %s segundos. \" % (time.time() - t_inicial_grasp_v_k_3_3),\"\\n\")\n",
        "\n",
        "# Se calcula el tiempo inicial de la metaheurística para 10 iteraciones y alpha=0.9.\n",
        "t_inicial_grasp_v_k_3_4=time.time()\n",
        "# Se aplica el algoritmo al problema para la instancia seleccionada.\n",
        "mejor_solucion_grasp_v_k_3_4 = grasp_v(grafica_bipartita_k_3, tours_totales_3, distancia_ciclo, vecindad_proyecto, 10, 0.9)\n",
        "# Se imprime el resultado final.\n",
        "print(\"El ciclo hamiltoniano más corto con GRASP con Construcción V y alfa=0.9 es\",mejor_solucion_grasp_v_k_3_4[0],\n",
        "      \"cuya distancia total es\",mejor_solucion_grasp_v_k_3_4[1],\"unidades.\")\n",
        "# Se imprime el tiempo total del algoritmo.\n",
        "print(\"El tiempo de GRASP con construcción V fue de %s segundos. \" % (time.time() - t_inicial_grasp_v_k_3_4),\"\\n\")"
      ]
    },
    {
      "cell_type": "markdown",
      "metadata": {
        "id": "5eyMKIg3kxPB"
      },
      "source": [
        "## Recocido Simulado para la gráfica bipartita completa $K_{3,3}$"
      ]
    },
    {
      "cell_type": "code",
      "execution_count": null,
      "metadata": {
        "colab": {
          "base_uri": "https://localhost:8080/"
        },
        "id": "_m5sKMkoiBrm",
        "outputId": "d88073aa-d51b-4891-90d6-0243a69a2d42"
      },
      "outputs": [
        {
          "name": "stdout",
          "output_type": "stream",
          "text": [
            "El ciclo hamiltoniano más corto con Recocido Simulado con alfa=0.6 es [0, 4, 1, 5, 2, 3] cuya distancia total es 29.31419975276194 unidades.\n",
            "El tiempo de Recocido Simulado fue de 0.0013747215270996094 segundos.  \n",
            "\n",
            "El ciclo hamiltoniano más corto con Recocido Simulado con alfa=0.7 es [0, 5, 1, 4, 2, 3] cuya distancia total es 30.096752058184105 unidades.\n",
            "El tiempo de Recocido Simulado fue de 0.0006480216979980469 segundos.  \n",
            "\n",
            "El ciclo hamiltoniano más corto con Recocido Simulado con alfa=0.8 es [0, 4, 1, 5, 2, 3] cuya distancia total es 29.31419975276194 unidades.\n",
            "El tiempo de Recocido Simulado fue de 0.0011639595031738281 segundos.  \n",
            "\n",
            "El ciclo hamiltoniano más corto con Recocido Simulado con alfa=0.9 es [0, 4, 1, 5, 2, 3] cuya distancia total es 29.31419975276194 unidades.\n",
            "El tiempo de Recocido Simulado fue de 0.0013282299041748047 segundos.  \n",
            "\n"
          ]
        }
      ],
      "source": [
        "# Recocido Simulado aplicado al problema.\n",
        "\n",
        "# Se establecen las temperaturas inicial y final\n",
        "t0= 100\n",
        "tf= 0.1\n",
        "# Se calcula el tiempo inicial de la metaheurística.\n",
        "t_inicial_recocido_k_3=time.time()\n",
        "# Se aplica el algoritmo al problema para alpha=0.6 y NREP=1.\n",
        "mejor_solucion_recocido_k_3 = Recocido_simulado(solucion_inicial_k_3, grafica_bipartita_k_3, distancia_ciclo, t0, 0.6, 1, tf)\n",
        "# Se imprime el resultado final.\n",
        "print(\"El ciclo hamiltoniano más corto con Recocido Simulado con alfa=0.6 es\",mejor_solucion_recocido_k_3[0],\n",
        "      \"cuya distancia total es\",mejor_solucion_recocido_k_3[1],\"unidades.\")\n",
        "# Se imprime el tiempo total del algoritmo.\n",
        "print(\"El tiempo de Recocido Simulado fue de %s segundos. \" % (time.time() - t_inicial_recocido_k_3),\"\\n\")\n",
        "\n",
        "# Se calcula el tiempo inicial de la metaheurística.\n",
        "t_inicial_recocido_k_3_2=time.time()\n",
        "# Se aplica el algoritmo al problema para alpha=0.7 y NREP=1.\n",
        "mejor_solucion_recocido_k_3_2 = Recocido_simulado(solucion_inicial_k_3, grafica_bipartita_k_3, distancia_ciclo, t0, 0.7, 1, tf)\n",
        "# Se imprime el resultado final.\n",
        "print(\"El ciclo hamiltoniano más corto con Recocido Simulado con alfa=0.7 es\",mejor_solucion_recocido_k_3_2[0],\n",
        "      \"cuya distancia total es\",mejor_solucion_recocido_k_3_2[1],\"unidades.\")\n",
        "# Se imprime el tiempo total del algoritmo.\n",
        "print(\"El tiempo de Recocido Simulado fue de %s segundos. \" % (time.time() - t_inicial_recocido_k_3_2),\"\\n\")\n",
        "\n",
        "# Se calcula el tiempo inicial de la metaheurística.\n",
        "t_inicial_recocido_k_3_3=time.time()\n",
        "# Se aplica el algoritmo al problema para alpha=0.8 y NREP=1.\n",
        "mejor_solucion_recocido_k_3_3 = Recocido_simulado(solucion_inicial_k_3, grafica_bipartita_k_3, distancia_ciclo, t0, 0.8, 1, tf)\n",
        "# Se imprime el resultado final.\n",
        "print(\"El ciclo hamiltoniano más corto con Recocido Simulado con alfa=0.8 es\",mejor_solucion_recocido_k_3_3[0],\n",
        "      \"cuya distancia total es\",mejor_solucion_recocido_k_3_3[1],\"unidades.\")\n",
        "# Se imprime el tiempo total del algoritmo.\n",
        "print(\"El tiempo de Recocido Simulado fue de %s segundos. \" % (time.time() - t_inicial_recocido_k_3_3),\"\\n\")\n",
        "\n",
        "# Se calcula el tiempo inicial de la metaheurística.\n",
        "t_inicial_recocido_k_3_4=time.time()\n",
        "# Se aplica el algoritmo al problema para alpha=0.9 y NREP=1.\n",
        "mejor_solucion_recocido_k_3_4 = Recocido_simulado(solucion_inicial_k_3, grafica_bipartita_k_3, distancia_ciclo, t0, 0.9, 1, tf)\n",
        "# Se imprime el resultado final.\n",
        "print(\"El ciclo hamiltoniano más corto con Recocido Simulado con alfa=0.9 es\",mejor_solucion_recocido_k_3_4[0],\n",
        "      \"cuya distancia total es\",mejor_solucion_recocido_k_3_4[1],\"unidades.\")\n",
        "# Se imprime el tiempo total del algoritmo.\n",
        "print(\"El tiempo de Recocido Simulado fue de %s segundos. \" % (time.time() - t_inicial_recocido_k_3_4),\"\\n\")"
      ]
    },
    {
      "cell_type": "markdown",
      "metadata": {
        "id": "WpjRD7iZk9kl"
      },
      "source": [
        "## Búsqueda Tabú para la gráfica bipartita completa $K_{3,3}$"
      ]
    },
    {
      "cell_type": "code",
      "execution_count": null,
      "metadata": {
        "colab": {
          "base_uri": "https://localhost:8080/"
        },
        "id": "N4pPlzprlO4m",
        "outputId": "fc443df6-9742-4e51-fb0f-482e1148c053"
      },
      "outputs": [
        {
          "name": "stdout",
          "output_type": "stream",
          "text": [
            "El ciclo hamiltoniano más corto con Búsqueda Tabú es [0, 4, 1, 5, 2, 3] cuya distancia total es 29.31419975276194 unidades.\n",
            "El tiempo de Búsqueda Tabú fue de 0.0006074905395507812 segundos  \n",
            "\n",
            "El ciclo hamiltoniano más corto con Búsqueda Tabú es [0, 4, 1, 5, 2, 3] cuya distancia total es 29.31419975276194 unidades.\n",
            "El tiempo de Búsqueda Tabú fue de 0.0004558563232421875 segundos  \n",
            "\n",
            "El ciclo hamiltoniano más corto con Búsqueda Tabú es [0, 5, 1, 3, 2, 4] cuya distancia total es 29.60736638469375 unidades.\n",
            "El tiempo de Búsqueda Tabú fue de 0.0010445117950439453 segundos  \n",
            "\n"
          ]
        }
      ],
      "source": [
        "# Búsqueda Tabú aplicada al problema.\n",
        "\n",
        "# Se eligen aleatoriamente una cantidad de tours a prohibir.\n",
        "tours_prohibidos_k_3=random.sample(tours_totales_3, 2)\n",
        "# Se crea la lista tabú.\n",
        "lista_tabu_k_3 = []\n",
        "# Se agregan los ciclos hamiltonianos prohibidos a la lista.\n",
        "lista_tabu_k_3.append(tours_prohibidos_k_3)\n",
        "# Se elige aleatoriamente una solución inicial.\n",
        "solucion_inicial_tabu_k_3 = random.choice(tours_totales_3)\n",
        "# Se calcula el tiempo inicial de la metaheurística.\n",
        "t_inicial_tabu_k_3=time.time()\n",
        "# Se aplica el algoritmo al problema.\n",
        "mejor_solucion_tabu_k_3 = Busqueda_tabu(solucion_inicial_tabu_k_3, grafica_bipartita_k_3, distancia_ciclo, lista_tabu_k_3, 10, 1)\n",
        "# Se imprime el resultado final.\n",
        "print(\"El ciclo hamiltoniano más corto con Búsqueda Tabú es\",mejor_solucion_tabu_k_3[0],\n",
        "      \"cuya distancia total es\",mejor_solucion_tabu_k_3[1],\"unidades.\")\n",
        "# Se imprime el tiempo total del algoritmo.\n",
        "print(\"El tiempo de Búsqueda Tabú fue de %s segundos \" % (time.time() - t_inicial_tabu_k_3),\"\\n\")\n",
        "\n",
        "# Se calcula el tiempo inicial de la metaheurística.\n",
        "t_inicial_tabu_k_3_2=time.time()\n",
        "# Se aplica el algoritmo al problema.\n",
        "mejor_solucion_tabu_k_3_2 = Busqueda_tabu(solucion_inicial_tabu_k_3, grafica_bipartita_k_3, distancia_ciclo, lista_tabu_k_3, 10, 5)\n",
        "# Se imprime el resultado final.\n",
        "print(\"El ciclo hamiltoniano más corto con Búsqueda Tabú es\",mejor_solucion_tabu_k_3_2[0],\n",
        "      \"cuya distancia total es\",mejor_solucion_tabu_k_3_2[1],\"unidades.\")\n",
        "# Se imprime el tiempo total del algoritmo.\n",
        "print(\"El tiempo de Búsqueda Tabú fue de %s segundos \" % (time.time() - t_inicial_tabu_k_3_2),\"\\n\")\n",
        "\n",
        "# Se calcula el tiempo inicial de la metaheurística.\n",
        "t_inicial_tabu_k_3_3=time.time()\n",
        "# Se aplica el algoritmo al problema.\n",
        "mejor_solucion_tabu_k_3_3 = Busqueda_tabu(solucion_inicial_tabu_k_3, grafica_bipartita_k_3, distancia_ciclo, lista_tabu_k_3, 10, 10)\n",
        "# Se imprime el resultado final.\n",
        "print(\"El ciclo hamiltoniano más corto con Búsqueda Tabú es\",mejor_solucion_tabu_k_3_3[0],\n",
        "      \"cuya distancia total es\",mejor_solucion_tabu_k_3_3[1],\"unidades.\")\n",
        "# Se imprime el tiempo total del algoritmo.\n",
        "print(\"El tiempo de Búsqueda Tabú fue de %s segundos \" % (time.time() - t_inicial_tabu_k_3_3),\"\\n\")"
      ]
    },
    {
      "cell_type": "markdown",
      "metadata": {
        "id": "DyaXmdyplErR"
      },
      "source": [
        "## Algoritmos Genéticos para la gráfica bipartita completa $K_{3,3}$"
      ]
    },
    {
      "cell_type": "code",
      "execution_count": null,
      "metadata": {
        "colab": {
          "base_uri": "https://localhost:8080/"
        },
        "id": "noT_mQselU_Q",
        "outputId": "cac336f6-26ea-43c2-ae99-f8dcf855c880"
      },
      "outputs": [
        {
          "name": "stdout",
          "output_type": "stream",
          "text": [
            "El ciclo hamiltoniano más corto con Algoritmos Genéticos para 20 generaciones y con tasa de mutación del 15% es [0, 3, 2, 5, 1, 4] cuya distancia total es 29.31419975276194 unidades.\n",
            "El tiempo del Algoritmo Genético fue de 0.001611471176147461 segundos  \n",
            "\n",
            "El ciclo hamiltoniano más corto con Algoritmos Genéticos para 20 generaciones y con tasa de mutación del 20% es [0, 4, 2, 3, 1, 5] cuya distancia total es 29.60736638469375 unidades.\n",
            "El tiempo del Algoritmo Genético fue de 0.0016243457794189453 segundos  \n",
            "\n",
            "El ciclo hamiltoniano más corto con Algoritmos Genéticos para 20 generaciones y con tasa de mutación del 25% es [0, 4, 1, 5, 2, 3] cuya distancia total es 29.31419975276194 unidades.\n",
            "El tiempo del Algoritmo Genético fue de 0.0016622543334960938 segundos  \n",
            "\n"
          ]
        }
      ],
      "source": [
        "# Algoritmo Genético aplicado al problema.\n",
        "\n",
        "\n",
        "# Se asigna el tamaño de la población que sea menor o igual a la longitud de tours_totales\n",
        "tam_poblacion_k_3 = len(tours_totales_3)\n",
        "# Se calcula el tiempo inicial de la metaheurística.\n",
        "t_inicial_genetico_k_3=time.time()\n",
        "# Se aplica el algoritmo al problema para 20 generaciones y con una tasa de mutación de 15%.\n",
        "mejor_solucion_geneticos_k_3 = algoritmo_genetico(grafica_bipartita_k_3, tours_totales_3, tam_poblacion_k_3, 20, 0.15)\n",
        "# Se imprime el resultado.\n",
        "print(\"El ciclo hamiltoniano más corto con Algoritmos Genéticos para 20 generaciones y con tasa de mutación del 15% es\", mejor_solucion_geneticos_k_3[0],\n",
        "      \"cuya distancia total es\",mejor_solucion_geneticos_k_3[1],\"unidades.\")\n",
        "# Se imprime el tiempo total del algoritmo.\n",
        "print(\"El tiempo del Algoritmo Genético fue de %s segundos \" % (time.time() - t_inicial_genetico_k_3),\"\\n\")\n",
        "# Observación. En algunos casos se llega al óptimo global. No obstante, si el valor de la función objetivo es el mismo al resto de heurísticas;\n",
        "# aunque parezca una solución diferente, en realidad es la misma.\n",
        "\n",
        "# Se calcula el tiempo inicial de la metaheurística.\n",
        "t_inicial_genetico_k_3_2=time.time()\n",
        "# Se aplica el algoritmo al problema para 20 generaciones y con una tasa de mutación de 20%.\n",
        "mejor_solucion_geneticos_k_3_2 = algoritmo_genetico(grafica_bipartita_k_3, tours_totales_3, tam_poblacion_k_3, 20, 0.2)\n",
        "# Se imprime el resultado.\n",
        "print(\"El ciclo hamiltoniano más corto con Algoritmos Genéticos para 20 generaciones y con tasa de mutación del 20% es\", mejor_solucion_geneticos_k_3_2[0],\n",
        "      \"cuya distancia total es\",mejor_solucion_geneticos_k_3_2[1],\"unidades.\")\n",
        "# Se imprime el tiempo total del algoritmo.\n",
        "print(\"El tiempo del Algoritmo Genético fue de %s segundos \" % (time.time() - t_inicial_genetico_k_3_2),\"\\n\")\n",
        "# Observación. En algunos casos se llega al óptimo global. No obstante, si el valor de la función objetivo es el mismo al resto de heurísticas;\n",
        "# aunque parezca una solución diferente, en realidad es la misma.\n",
        "\n",
        "# Se calcula el tiempo inicial de la metaheurística.\n",
        "t_inicial_genetico_k_3_3=time.time()\n",
        "# Se aplica el algoritmo al problema para 20 generaciones y con una tasa de mutación de 25%.\n",
        "mejor_solucion_geneticos_k_3_3 = algoritmo_genetico(grafica_bipartita_k_3, tours_totales_3, tam_poblacion_k_3, 20, 0.25)\n",
        "# Se imprime el resultado.\n",
        "print(\"El ciclo hamiltoniano más corto con Algoritmos Genéticos para 20 generaciones y con tasa de mutación del 25% es\", mejor_solucion_geneticos_k_3_3[0],\n",
        "      \"cuya distancia total es\",mejor_solucion_geneticos_k_3_3[1],\"unidades.\")\n",
        "# Se imprime el tiempo total del algoritmo.\n",
        "print(\"El tiempo del Algoritmo Genético fue de %s segundos \" % (time.time() - t_inicial_genetico_k_3_3),\"\\n\")\n",
        "# Observación. En algunos casos se llega al óptimo global. No obstante, si el valor de la función objetivo es el mismo al resto de heurísticas;\n",
        "# aunque parezca una solución diferente, en realidad es la misma."
      ]
    },
    {
      "cell_type": "markdown",
      "metadata": {
        "id": "c5LH3u1ziB_o"
      },
      "source": [
        "# Sección de pruebas de las metaheurísticas para la gráfica bipartita completa $K_{4,4}$"
      ]
    },
    {
      "cell_type": "markdown",
      "metadata": {
        "id": "luFyJd0gc-w2"
      },
      "source": [
        "## Código de la gráfica bipartita completa $K_{4,4}$"
      ]
    },
    {
      "cell_type": "code",
      "execution_count": null,
      "metadata": {
        "id": "6mvIkMxPdDkD"
      },
      "outputs": [],
      "source": [
        "# A continuación, se crea la matriz de distancias para la gráfica K_{4,4}.\n",
        "tam_part_3 = 4\n",
        "tam_part_4= 4\n",
        "grafica_bipartita_k_4 = distancias_grafica_bipartita(tam_part_3,tam_part_4)\n",
        "\n",
        "# Se define la lista de todos los posibles tours distintos en la gráfica $K_{4,4}$, con base en la matriz de distancias.\n",
        "tours_totales_4=vecindad_proyecto([0,4,1,5,2,6,3,7])\n",
        "tours_totales_4.append([0,4,1,5,2,6,3,7])"
      ]
    },
    {
      "cell_type": "markdown",
      "metadata": {
        "id": "MK_rjQLownI1"
      },
      "source": [
        "## Búsqueda Local y GRASP para la gráfica bipartita completa $K_{4,4}$"
      ]
    },
    {
      "cell_type": "code",
      "execution_count": null,
      "metadata": {
        "colab": {
          "base_uri": "https://localhost:8080/"
        },
        "id": "uKIJmT98wxs2",
        "outputId": "18968c7d-32e7-4149-d4ee-07f8f02e2fb8"
      },
      "outputs": [
        {
          "name": "stdout",
          "output_type": "stream",
          "text": [
            "El ciclo hamiltoniano más corto con Búsqueda Local es [0, 7, 1, 5, 2, 4, 3, 6] cuya distancia total es 36.84031223147192 unidades.\n",
            "El tiempo de Búsqueda Local fue de 0.003844022750854492 segundos.  \n",
            "\n",
            "El ciclo hamiltoniano más corto con GRASP con Construcción V y alfa=0.3 es [0, 7, 1, 5, 2, 4, 3, 6] cuya distancia total es 36.84031223147192 unidades.\n",
            "El tiempo de GRASP con construcción V fue de 0.005327463150024414 segundos.  \n",
            "\n",
            "El ciclo hamiltoniano más corto con GRASP con Construcción V y alfa=0.5 es [0, 5, 1, 7, 2, 4, 3, 6] cuya distancia total es 36.98184911392816 unidades.\n",
            "El tiempo de GRASP con construcción V fue de 0.0018167495727539062 segundos.  \n",
            "\n",
            "El ciclo hamiltoniano más corto con GRASP con Construcción V y alfa=0.7 es [0, 7, 1, 5, 2, 4, 3, 6] cuya distancia total es 36.84031223147192 unidades.\n",
            "El tiempo de GRASP con construcción V fue de 0.002277374267578125 segundos.  \n",
            "\n",
            "El ciclo hamiltoniano más corto con GRASP con Construcción V y alfa=0.9 es [0, 7, 1, 5, 2, 4, 3, 6] cuya distancia total es 36.84031223147192 unidades.\n",
            "El tiempo de GRASP con construcción V fue de 0.0013463497161865234 segundos.  \n",
            "\n"
          ]
        }
      ],
      "source": [
        "# Búsqueda Local aplicada al problema.\n",
        "\n",
        "# Se calcula el tiempo inicial de la metaheurística.\n",
        "t_inicial_busqueda_local_k_4=time.time()\n",
        "# Se proporciona una solución inicial al azar.\n",
        "solucion_inicial_k_4 = random.choice(tours_totales_4)\n",
        "# Se obtiene una mejor solución, usando Búsqueda Local para cada una de las instancias.\n",
        "mejor_solucion_k_4 = Busqueda_local(solucion_inicial_k_4, grafica_bipartita_k_4, distancia_ciclo, vecindad_proyecto)\n",
        "# Se imprime la mejor solución y su distancia total.\n",
        "print(\"El ciclo hamiltoniano más corto con Búsqueda Local es\",mejor_solucion_k_4,\"cuya distancia total es\",distancia_ciclo(grafica_bipartita_k_4, mejor_solucion_k_4),\"unidades.\")\n",
        "# Se imprime el tiempo total del algoritmo.\n",
        "print(\"El tiempo de Búsqueda Local fue de %s segundos. \" % (time.time() - t_inicial_busqueda_local_k_4),\"\\n\")\n",
        "\n",
        "# GRASP con construcción V aplicado al problema.\n",
        "\n",
        "# Se calcula el tiempo inicial de la metaheurística para 10 iteraciones y alpha=0.3.\n",
        "t_inicial_grasp_v_k_4=time.time()\n",
        "# Se aplica el algoritmo al problema para la instancia seleccionada.\n",
        "mejor_solucion_grasp_v_k_4 = grasp_v(grafica_bipartita_k_4, tours_totales_4, distancia_ciclo, vecindad_proyecto, 10, 0.3)\n",
        "# Se imprime el resultado final.\n",
        "print(\"El ciclo hamiltoniano más corto con GRASP con Construcción V y alfa=0.3 es\",mejor_solucion_grasp_v_k_4[0],\n",
        "      \"cuya distancia total es\",mejor_solucion_grasp_v_k_4[1],\"unidades.\")\n",
        "# Se imprime el tiempo total del algoritmo.\n",
        "print(\"El tiempo de GRASP con construcción V fue de %s segundos. \" % (time.time() - t_inicial_grasp_v_k_4),\"\\n\")\n",
        "\n",
        "# Se calcula el tiempo inicial de la metaheurística para 10 iteraciones y alpha=0.5.\n",
        "t_inicial_grasp_v_k_4_2=time.time()\n",
        "# Se aplica el algoritmo al problema para la instancia seleccionada.\n",
        "mejor_solucion_grasp_v_k_4_2 = grasp_v(grafica_bipartita_k_4, tours_totales_4, distancia_ciclo, vecindad_proyecto, 10, 0.5)\n",
        "# Se imprime el resultado final.\n",
        "print(\"El ciclo hamiltoniano más corto con GRASP con Construcción V y alfa=0.5 es\",mejor_solucion_grasp_v_k_4_2[0],\n",
        "      \"cuya distancia total es\",mejor_solucion_grasp_v_k_4_2[1],\"unidades.\")\n",
        "# Se imprime el tiempo total del algoritmo.\n",
        "print(\"El tiempo de GRASP con construcción V fue de %s segundos. \" % (time.time() - t_inicial_grasp_v_k_4_2),\"\\n\")\n",
        "\n",
        "# Se calcula el tiempo inicial de la metaheurística para 10 iteraciones y alpha=0.7.\n",
        "t_inicial_grasp_v_k_4_3=time.time()\n",
        "# Se aplica el algoritmo al problema para la instancia seleccionada.\n",
        "mejor_solucion_grasp_v_k_4_3 = grasp_v(grafica_bipartita_k_4, tours_totales_4, distancia_ciclo, vecindad_proyecto, 10, 0.7)\n",
        "# Se imprime el resultado final.\n",
        "print(\"El ciclo hamiltoniano más corto con GRASP con Construcción V y alfa=0.7 es\",mejor_solucion_grasp_v_k_4_3[0],\n",
        "      \"cuya distancia total es\",mejor_solucion_grasp_v_k_4_3[1],\"unidades.\")\n",
        "# Se imprime el tiempo total del algoritmo.\n",
        "print(\"El tiempo de GRASP con construcción V fue de %s segundos. \" % (time.time() - t_inicial_grasp_v_k_4_3),\"\\n\")\n",
        "\n",
        "# Se calcula el tiempo inicial de la metaheurística para 10 iteraciones y alpha=0.9.\n",
        "t_inicial_grasp_v_k_4_4=time.time()\n",
        "# Se aplica el algoritmo al problema para la instancia seleccionada.\n",
        "mejor_solucion_grasp_v_k_4_4 = grasp_v(grafica_bipartita_k_4, tours_totales_4, distancia_ciclo, vecindad_proyecto, 10, 0.9)\n",
        "# Se imprime el resultado final.\n",
        "print(\"El ciclo hamiltoniano más corto con GRASP con Construcción V y alfa=0.9 es\",mejor_solucion_grasp_v_k_4_4[0],\n",
        "      \"cuya distancia total es\",mejor_solucion_grasp_v_k_4_4[1],\"unidades.\")\n",
        "# Se imprime el tiempo total del algoritmo.\n",
        "print(\"El tiempo de GRASP con construcción V fue de %s segundos. \" % (time.time() - t_inicial_grasp_v_k_4_4),\"\\n\")"
      ]
    },
    {
      "cell_type": "markdown",
      "metadata": {
        "id": "sS8xCxlvxlRO"
      },
      "source": [
        "## Recocido Simulado para la gráfica bipartita completa $K_{4,4}$"
      ]
    },
    {
      "cell_type": "code",
      "execution_count": null,
      "metadata": {
        "colab": {
          "base_uri": "https://localhost:8080/"
        },
        "id": "XMScs4USx5T5",
        "outputId": "e44e5cce-b6d1-4add-9a07-406541e73a48"
      },
      "outputs": [
        {
          "name": "stdout",
          "output_type": "stream",
          "text": [
            "El ciclo hamiltoniano más corto con Recocido Simulado con alfa=0.6 es [0, 5, 1, 7, 2, 6, 3, 4] cuya distancia total es 38.02296378935823 unidades.\n",
            "El tiempo de Recocido Simulado fue de 0.0005977153778076172 segundos.  \n",
            "\n",
            "El ciclo hamiltoniano más corto con Recocido Simulado con alfa=0.7 es [0, 7, 1, 5, 2, 4, 3, 6] cuya distancia total es 36.84031223147192 unidades.\n",
            "El tiempo de Recocido Simulado fue de 0.0006432533264160156 segundos.  \n",
            "\n",
            "El ciclo hamiltoniano más corto con Recocido Simulado con alfa=0.8 es [0, 5, 1, 7, 2, 4, 3, 6] cuya distancia total es 36.98184911392816 unidades.\n",
            "El tiempo de Recocido Simulado fue de 0.001262664794921875 segundos.  \n",
            "\n",
            "El ciclo hamiltoniano más corto con Recocido Simulado con alfa=0.9 es [0, 5, 1, 7, 2, 4, 3, 6] cuya distancia total es 36.98184911392816 unidades.\n",
            "El tiempo de Recocido Simulado fue de 0.0027670860290527344 segundos.  \n",
            "\n"
          ]
        }
      ],
      "source": [
        "# Recocido Simulado aplicado al problema.\n",
        "\n",
        "# Se establecen las temperaturas inicial y final\n",
        "t0= 100\n",
        "tf= 0.1\n",
        "# Se calcula el tiempo inicial de la metaheurística.\n",
        "t_inicial_recocido_k_4=time.time()\n",
        "# Se aplica el algoritmo al problema para alpha=0.6 y NREP=1.\n",
        "mejor_solucion_recocido_k_4 = Recocido_simulado(solucion_inicial_k_4, grafica_bipartita_k_4, distancia_ciclo, t0, 0.6, 1, tf)\n",
        "# Se imprime el resultado final.\n",
        "print(\"El ciclo hamiltoniano más corto con Recocido Simulado con alfa=0.6 es\",mejor_solucion_recocido_k_4[0],\n",
        "      \"cuya distancia total es\",mejor_solucion_recocido_k_4[1],\"unidades.\")\n",
        "# Se imprime el tiempo total del algoritmo.\n",
        "print(\"El tiempo de Recocido Simulado fue de %s segundos. \" % (time.time() - t_inicial_recocido_k_4),\"\\n\")\n",
        "\n",
        "# Se calcula el tiempo inicial de la metaheurística.\n",
        "t_inicial_recocido_k_4_2=time.time()\n",
        "# Se aplica el algoritmo al problema para alpha=0.7 y NREP=1.\n",
        "mejor_solucion_recocido_k_4_2 = Recocido_simulado(solucion_inicial_k_4, grafica_bipartita_k_4, distancia_ciclo, t0, 0.7, 1, tf)\n",
        "# Se imprime el resultado final.\n",
        "print(\"El ciclo hamiltoniano más corto con Recocido Simulado con alfa=0.7 es\",mejor_solucion_recocido_k_4_2[0],\n",
        "      \"cuya distancia total es\",mejor_solucion_recocido_k_4_2[1],\"unidades.\")\n",
        "# Se imprime el tiempo total del algoritmo.\n",
        "print(\"El tiempo de Recocido Simulado fue de %s segundos. \" % (time.time() - t_inicial_recocido_k_4_2),\"\\n\")\n",
        "\n",
        "# Se calcula el tiempo inicial de la metaheurística.\n",
        "t_inicial_recocido_k_4_3=time.time()\n",
        "# Se aplica el algoritmo al problema para alpha=0.8 y NREP=1.\n",
        "mejor_solucion_recocido_k_4_3 = Recocido_simulado(solucion_inicial_k_4, grafica_bipartita_k_4, distancia_ciclo, t0, 0.8, 1, tf)\n",
        "# Se imprime el resultado final.\n",
        "print(\"El ciclo hamiltoniano más corto con Recocido Simulado con alfa=0.8 es\",mejor_solucion_recocido_k_4_3[0],\n",
        "      \"cuya distancia total es\",mejor_solucion_recocido_k_4_3[1],\"unidades.\")\n",
        "# Se imprime el tiempo total del algoritmo.\n",
        "print(\"El tiempo de Recocido Simulado fue de %s segundos. \" % (time.time() - t_inicial_recocido_k_4_3),\"\\n\")\n",
        "\n",
        "# Se calcula el tiempo inicial de la metaheurística.\n",
        "t_inicial_recocido_k_4_4=time.time()\n",
        "# Se aplica el algoritmo al problema para alpha=0.9 y NREP=1.\n",
        "mejor_solucion_recocido_k_4_4 = Recocido_simulado(solucion_inicial_k_4, grafica_bipartita_k_4, distancia_ciclo, t0, 0.9, 1, tf)\n",
        "# Se imprime el resultado final.\n",
        "print(\"El ciclo hamiltoniano más corto con Recocido Simulado con alfa=0.9 es\",mejor_solucion_recocido_k_4_4[0],\n",
        "      \"cuya distancia total es\",mejor_solucion_recocido_k_4_4[1],\"unidades.\")\n",
        "# Se imprime el tiempo total del algoritmo.\n",
        "print(\"El tiempo de Recocido Simulado fue de %s segundos. \" % (time.time() - t_inicial_recocido_k_4_4),\"\\n\")"
      ]
    },
    {
      "cell_type": "markdown",
      "metadata": {
        "id": "TMmx3qs0yhA_"
      },
      "source": [
        "## Búsqueda Tabú para la gráfica bipartita completa $K_{4,4}$"
      ]
    },
    {
      "cell_type": "code",
      "execution_count": null,
      "metadata": {
        "colab": {
          "base_uri": "https://localhost:8080/"
        },
        "id": "9nfB1fveyvts",
        "outputId": "2617dc7c-9c59-4095-c0ee-ce6f33fa801d"
      },
      "outputs": [
        {
          "name": "stdout",
          "output_type": "stream",
          "text": [
            "El ciclo hamiltoniano más corto con Búsqueda Tabú es [0, 7, 1, 5, 2, 4, 3, 6] cuya distancia total es 36.84031223147192 unidades.\n",
            "El tiempo de Búsqueda Tabú fue de 0.001537322998046875 segundos  \n",
            "\n",
            "El ciclo hamiltoniano más corto con Búsqueda Tabú es [0, 7, 1, 5, 2, 4, 3, 6] cuya distancia total es 36.84031223147192 unidades.\n",
            "El tiempo de Búsqueda Tabú fue de 0.0013988018035888672 segundos  \n",
            "\n",
            "El ciclo hamiltoniano más corto con Búsqueda Tabú es [0, 5, 1, 7, 2, 4, 3, 6] cuya distancia total es 36.98184911392816 unidades.\n",
            "El tiempo de Búsqueda Tabú fue de 0.002084493637084961 segundos  \n",
            "\n"
          ]
        }
      ],
      "source": [
        "# Búsqueda Tabú aplicada al problema.\n",
        "\n",
        "# Se eligen aleatoriamente una cantidad de tours a prohibir.\n",
        "tours_prohibidos_k_4=random.sample(tours_totales_4, 6)\n",
        "# Se crea la lista tabú.\n",
        "lista_tabu_k_4 = []\n",
        "# Se agregan los ciclos hamiltonianos prohibidos a la lista.\n",
        "lista_tabu_k_4.append(tours_prohibidos_k_4)\n",
        "# Se elige aleatoriamente una solución inicial.\n",
        "solucion_inicial_tabu_k_4 = random.choice(tours_totales_4)\n",
        "# Se calcula el tiempo inicial de la metaheurística.\n",
        "t_inicial_tabu_k_4=time.time()\n",
        "# Se aplica el algoritmo al problema.\n",
        "mejor_solucion_tabu_k_4 = Busqueda_tabu(solucion_inicial_tabu_k_4, grafica_bipartita_k_4, distancia_ciclo, lista_tabu_k_4, 10, 1)\n",
        "# Se imprime el resultado final.\n",
        "print(\"El ciclo hamiltoniano más corto con Búsqueda Tabú es\",mejor_solucion_tabu_k_4[0],\n",
        "      \"cuya distancia total es\",mejor_solucion_tabu_k_4[1],\"unidades.\")\n",
        "# Se imprime el tiempo total del algoritmo.\n",
        "print(\"El tiempo de Búsqueda Tabú fue de %s segundos \" % (time.time() - t_inicial_tabu_k_4),\"\\n\")\n",
        "\n",
        "# Se calcula el tiempo inicial de la metaheurística.\n",
        "t_inicial_tabu_k_4_2=time.time()\n",
        "# Se aplica el algoritmo al problema.\n",
        "mejor_solucion_tabu_k_4_2 = Busqueda_tabu(solucion_inicial_tabu_k_4, grafica_bipartita_k_4, distancia_ciclo, lista_tabu_k_4, 10, 5)\n",
        "# Se imprime el resultado final.\n",
        "print(\"El ciclo hamiltoniano más corto con Búsqueda Tabú es\",mejor_solucion_tabu_k_4_2[0],\n",
        "      \"cuya distancia total es\",mejor_solucion_tabu_k_4_2[1],\"unidades.\")\n",
        "# Se imprime el tiempo total del algoritmo.\n",
        "print(\"El tiempo de Búsqueda Tabú fue de %s segundos \" % (time.time() - t_inicial_tabu_k_4_2),\"\\n\")\n",
        "\n",
        "# Se calcula el tiempo inicial de la metaheurística.\n",
        "t_inicial_tabu_k_4_3=time.time()\n",
        "# Se aplica el algoritmo al problema.\n",
        "mejor_solucion_tabu_k_4_3 = Busqueda_tabu(solucion_inicial_tabu_k_4, grafica_bipartita_k_4, distancia_ciclo, lista_tabu_k_4, 10, 10)\n",
        "# Se imprime el resultado final.\n",
        "print(\"El ciclo hamiltoniano más corto con Búsqueda Tabú es\",mejor_solucion_tabu_k_4_3[0],\n",
        "      \"cuya distancia total es\",mejor_solucion_tabu_k_4_3[1],\"unidades.\")\n",
        "# Se imprime el tiempo total del algoritmo.\n",
        "print(\"El tiempo de Búsqueda Tabú fue de %s segundos \" % (time.time() - t_inicial_tabu_k_4_3),\"\\n\")"
      ]
    },
    {
      "cell_type": "markdown",
      "metadata": {
        "id": "Ewh92qGXzcee"
      },
      "source": [
        "## Algoritmos Genéticos para la gráfica bipartita completa $K_{4,4}$"
      ]
    },
    {
      "cell_type": "code",
      "execution_count": null,
      "metadata": {
        "colab": {
          "base_uri": "https://localhost:8080/"
        },
        "id": "nlz3PJfBztZl",
        "outputId": "abe5cac5-83b9-4195-a5c2-6ca9c89950a6"
      },
      "outputs": [
        {
          "name": "stdout",
          "output_type": "stream",
          "text": [
            "El ciclo hamiltoniano más corto con Algoritmos Genéticos para 20 generaciones y con tasa de mutación del 15% es [0, 7, 2, 5, 1, 4, 3, 6] cuya distancia total es 37.530592096738594 unidades.\n",
            "El tiempo del Algoritmo Genético fue de 0.009113311767578125 segundos  \n",
            "\n",
            "El ciclo hamiltoniano más corto con Algoritmos Genéticos para 20 generaciones y con tasa de mutación del 20% es [0, 7, 2, 6, 3, 4, 1, 5] cuya distancia total es 39.16502433173986 unidades.\n",
            "El tiempo del Algoritmo Genético fue de 0.016039609909057617 segundos  \n",
            "\n",
            "El ciclo hamiltoniano más corto con Algoritmos Genéticos para 20 generaciones y con tasa de mutación del 25% es [0, 5, 1, 7, 2, 6, 3, 4] cuya distancia total es 38.02296378935823 unidades.\n",
            "El tiempo del Algoritmo Genético fue de 0.011954069137573242 segundos  \n",
            "\n"
          ]
        }
      ],
      "source": [
        "# Algoritmo Genético aplicado al problema.\n",
        "\n",
        "\n",
        "# Se asigna el tamaño de la población que sea menor o igual a la longitud de tours_totales\n",
        "tam_poblacion_k_4 = len(tours_totales_4)\n",
        "# Se calcula el tiempo inicial de la metaheurística.\n",
        "t_inicial_genetico_k_4=time.time()\n",
        "# Se aplica el algoritmo al problema para 20 generaciones y con una tasa de mutación de 15%.\n",
        "mejor_solucion_geneticos_k_4 = algoritmo_genetico(grafica_bipartita_k_4, tours_totales_4, tam_poblacion_k_4, 20, 0.15)\n",
        "# Se imprime el resultado.\n",
        "print(\"El ciclo hamiltoniano más corto con Algoritmos Genéticos para 20 generaciones y con tasa de mutación del 15% es\", mejor_solucion_geneticos_k_4[0],\n",
        "      \"cuya distancia total es\",mejor_solucion_geneticos_k_4[1],\"unidades.\")\n",
        "# Se imprime el tiempo total del algoritmo.\n",
        "print(\"El tiempo del Algoritmo Genético fue de %s segundos \" % (time.time() - t_inicial_genetico_k_4),\"\\n\")\n",
        "# Observación. En algunos casos se llega al óptimo global. No obstante, si el valor de la función objetivo es el mismo al resto de heurísticas;\n",
        "# aunque parezca una solución diferente, en realidad es la misma.\n",
        "\n",
        "# Se calcula el tiempo inicial de la metaheurística.\n",
        "t_inicial_genetico_k_4_2=time.time()\n",
        "# Se aplica el algoritmo al problema para 20 generaciones y con una tasa de mutación de 20%.\n",
        "mejor_solucion_geneticos_k_4_2 = algoritmo_genetico(grafica_bipartita_k_4, tours_totales_4, tam_poblacion_k_4, 20, 0.2)\n",
        "# Se imprime el resultado.\n",
        "print(\"El ciclo hamiltoniano más corto con Algoritmos Genéticos para 20 generaciones y con tasa de mutación del 20% es\", mejor_solucion_geneticos_k_4_2[0],\n",
        "      \"cuya distancia total es\",mejor_solucion_geneticos_k_4_2[1],\"unidades.\")\n",
        "# Se imprime el tiempo total del algoritmo.\n",
        "print(\"El tiempo del Algoritmo Genético fue de %s segundos \" % (time.time() - t_inicial_genetico_k_4_2),\"\\n\")\n",
        "# Observación. En algunos casos se llega al óptimo global. No obstante, si el valor de la función objetivo es el mismo al resto de heurísticas;\n",
        "# aunque parezca una solución diferente, en realidad es la misma.\n",
        "\n",
        "# Se calcula el tiempo inicial de la metaheurística.\n",
        "t_inicial_genetico_k_4_3=time.time()\n",
        "# Se aplica el algoritmo al problema para 20 generaciones y con una tasa de mutación de 25%.\n",
        "mejor_solucion_geneticos_k_4_3 = algoritmo_genetico(grafica_bipartita_k_4, tours_totales_4, tam_poblacion_k_4, 20, 0.25)\n",
        "# Se imprime el resultado.\n",
        "print(\"El ciclo hamiltoniano más corto con Algoritmos Genéticos para 20 generaciones y con tasa de mutación del 25% es\", mejor_solucion_geneticos_k_4_3[0],\n",
        "      \"cuya distancia total es\",mejor_solucion_geneticos_k_4_3[1],\"unidades.\")\n",
        "# Se imprime el tiempo total del algoritmo.\n",
        "print(\"El tiempo del Algoritmo Genético fue de %s segundos \" % (time.time() - t_inicial_genetico_k_4_3),\"\\n\")\n",
        "# Observación. En algunos casos se llega al óptimo global. No obstante, si el valor de la función objetivo es el mismo al resto de heurísticas;\n",
        "# aunque parezca una solución diferente, en realidad es la misma."
      ]
    },
    {
      "cell_type": "markdown",
      "metadata": {
        "id": "xpSOpW6EiFMZ"
      },
      "source": [
        "# Sección de pruebas de las metaheurísticas para la gráfica bipartita completa $K_{5,5}$"
      ]
    },
    {
      "cell_type": "markdown",
      "metadata": {
        "id": "2aLsxlyQdLYW"
      },
      "source": [
        "## Código de la gráfica bipartita completa $K_{5,5}$"
      ]
    },
    {
      "cell_type": "code",
      "execution_count": null,
      "metadata": {
        "id": "-dzbYmiudWnq"
      },
      "outputs": [],
      "source": [
        "# A continuación, se crea la matriz de distancias para la gráfica K_{5,5}.\n",
        "tam_part_5 = 5\n",
        "tam_part_6= 5\n",
        "grafica_bipartita_k_5 = distancias_grafica_bipartita(tam_part_5,tam_part_6)\n",
        "\n",
        "# Se define la lista de todos los posibles tours distintos en la gráfica $K_{5,5}$, con base en la matriz de distancias.\n",
        "tours_totales_5=vecindad_proyecto([0,5,1,6,2,7,3,8,4,9])\n",
        "tours_totales_5.append([0,5,1,6,2,7,3,8,4,9])"
      ]
    },
    {
      "cell_type": "markdown",
      "metadata": {
        "id": "f4PtSvBh0_zx"
      },
      "source": [
        "## Búsqueda Local y GRASP para la gráfica bipartita completa $K_{5,5}$"
      ]
    },
    {
      "cell_type": "code",
      "execution_count": null,
      "metadata": {
        "colab": {
          "base_uri": "https://localhost:8080/"
        },
        "id": "lyPSCTz80_zy",
        "outputId": "e4bdfab0-96ba-48e0-e58d-0a1359454dfe"
      },
      "outputs": [
        {
          "output_type": "stream",
          "name": "stdout",
          "text": [
            "El ciclo hamiltoniano más corto con Búsqueda Local es [0, 7, 1, 8, 2, 5, 3, 6, 4, 9] cuya distancia total es 44.898250022791295 unidades.\n",
            "El tiempo de Búsqueda Local fue de 0.0197145938873291 segundos.  \n",
            "\n",
            "El ciclo hamiltoniano más corto con GRASP con Construcción V y alfa=0.3 es [0, 7, 1, 6, 2, 5, 3, 8, 4, 9] cuya distancia total es 47.78841695046764 unidades.\n",
            "El tiempo de GRASP con construcción V fue de 0.009797334671020508 segundos.  \n",
            "\n",
            "El ciclo hamiltoniano más corto con GRASP con Construcción V y alfa=0.5 es [0, 5, 1, 8, 2, 7, 3, 6, 4, 9] cuya distancia total es 49.11857351967143 unidades.\n",
            "El tiempo de GRASP con construcción V fue de 0.00914764404296875 segundos.  \n",
            "\n",
            "El ciclo hamiltoniano más corto con GRASP con Construcción V y alfa=0.7 es [0, 7, 1, 9, 2, 5, 3, 8, 4, 6] cuya distancia total es 47.84559201801275 unidades.\n",
            "El tiempo de GRASP con construcción V fue de 0.010171651840209961 segundos.  \n",
            "\n",
            "El ciclo hamiltoniano más corto con GRASP con Construcción V y alfa=0.9 es [0, 9, 1, 5, 2, 7, 3, 8, 4, 6] cuya distancia total es 48.28503500275939 unidades.\n",
            "El tiempo de GRASP con construcción V fue de 0.008130788803100586 segundos.  \n",
            "\n"
          ]
        }
      ],
      "source": [
        "# Búsqueda Local aplicada al problema.\n",
        "\n",
        "# Se calcula el tiempo inicial de la metaheurística.\n",
        "t_inicial_busqueda_local_k_5=time.time()\n",
        "# Se proporciona una solución inicial al azar.\n",
        "solucion_inicial_k_5 = random.choice(tours_totales_5)\n",
        "# Se obtiene una mejor solución, usando Búsqueda Local para cada una de las instancias.\n",
        "mejor_solucion_k_5 = Busqueda_local(solucion_inicial_k_5, grafica_bipartita_k_5, distancia_ciclo, vecindad_proyecto)\n",
        "# Se imprime la mejor solución y su distancia total.\n",
        "print(\"El ciclo hamiltoniano más corto con Búsqueda Local es\",mejor_solucion_k_5,\"cuya distancia total es\",distancia_ciclo(grafica_bipartita_k_5, mejor_solucion_k_5),\"unidades.\")\n",
        "# Se imprime el tiempo total del algoritmo.\n",
        "print(\"El tiempo de Búsqueda Local fue de %s segundos. \" % (time.time() - t_inicial_busqueda_local_k_5),\"\\n\")\n",
        "\n",
        "# GRASP con construcción V aplicado al problema.\n",
        "\n",
        "# Se calcula el tiempo inicial de la metaheurística para 10 iteraciones y alpha=0.3.\n",
        "t_inicial_grasp_v_k_5=time.time()\n",
        "# Se aplica el algoritmo al problema para la instancia seleccionada.\n",
        "mejor_solucion_grasp_v_k_5 = grasp_v(grafica_bipartita_k_5, tours_totales_5, distancia_ciclo, vecindad_proyecto, 10, 0.3)\n",
        "# Se imprime el resultado final.\n",
        "print(\"El ciclo hamiltoniano más corto con GRASP con Construcción V y alfa=0.3 es\",mejor_solucion_grasp_v_k_5[0],\n",
        "      \"cuya distancia total es\",mejor_solucion_grasp_v_k_5[1],\"unidades.\")\n",
        "# Se imprime el tiempo total del algoritmo.\n",
        "print(\"El tiempo de GRASP con construcción V fue de %s segundos. \" % (time.time() - t_inicial_grasp_v_k_5),\"\\n\")\n",
        "\n",
        "# Se calcula el tiempo inicial de la metaheurística para 10 iteraciones y alpha=0.5.\n",
        "t_inicial_grasp_v_k_5_2=time.time()\n",
        "# Se aplica el algoritmo al problema para la instancia seleccionada.\n",
        "mejor_solucion_grasp_v_k_5_2 = grasp_v(grafica_bipartita_k_5, tours_totales_5, distancia_ciclo, vecindad_proyecto, 10, 0.5)\n",
        "# Se imprime el resultado final.\n",
        "print(\"El ciclo hamiltoniano más corto con GRASP con Construcción V y alfa=0.5 es\",mejor_solucion_grasp_v_k_5_2[0],\n",
        "      \"cuya distancia total es\",mejor_solucion_grasp_v_k_5_2[1],\"unidades.\")\n",
        "# Se imprime el tiempo total del algoritmo.\n",
        "print(\"El tiempo de GRASP con construcción V fue de %s segundos. \" % (time.time() - t_inicial_grasp_v_k_5_2),\"\\n\")\n",
        "\n",
        "# Se calcula el tiempo inicial de la metaheurística para 10 iteraciones y alpha=0.7.\n",
        "t_inicial_grasp_v_k_5_3=time.time()\n",
        "# Se aplica el algoritmo al problema para la instancia seleccionada.\n",
        "mejor_solucion_grasp_v_k_5_3 = grasp_v(grafica_bipartita_k_5, tours_totales_5, distancia_ciclo, vecindad_proyecto, 10, 0.7)\n",
        "# Se imprime el resultado final.\n",
        "print(\"El ciclo hamiltoniano más corto con GRASP con Construcción V y alfa=0.7 es\",mejor_solucion_grasp_v_k_5_3[0],\n",
        "      \"cuya distancia total es\",mejor_solucion_grasp_v_k_5_3[1],\"unidades.\")\n",
        "# Se imprime el tiempo total del algoritmo.\n",
        "print(\"El tiempo de GRASP con construcción V fue de %s segundos. \" % (time.time() - t_inicial_grasp_v_k_5_3),\"\\n\")\n",
        "\n",
        "# Se calcula el tiempo inicial de la metaheurística para 10 iteraciones y alpha=0.9.\n",
        "t_inicial_grasp_v_k_5_4=time.time()\n",
        "# Se aplica el algoritmo al problema para la instancia seleccionada.\n",
        "mejor_solucion_grasp_v_k_5_4 = grasp_v(grafica_bipartita_k_5, tours_totales_5, distancia_ciclo, vecindad_proyecto, 10, 0.9)\n",
        "# Se imprime el resultado final.\n",
        "print(\"El ciclo hamiltoniano más corto con GRASP con Construcción V y alfa=0.9 es\",mejor_solucion_grasp_v_k_5_4[0],\n",
        "      \"cuya distancia total es\",mejor_solucion_grasp_v_k_5_4[1],\"unidades.\")\n",
        "# Se imprime el tiempo total del algoritmo.\n",
        "print(\"El tiempo de GRASP con construcción V fue de %s segundos. \" % (time.time() - t_inicial_grasp_v_k_5_4),\"\\n\")"
      ]
    },
    {
      "cell_type": "markdown",
      "metadata": {
        "id": "xQ5iaEc90_zz"
      },
      "source": [
        "## Recocido Simulado para la gráfica bipartita completa $K_{5,5}$"
      ]
    },
    {
      "cell_type": "code",
      "execution_count": null,
      "metadata": {
        "colab": {
          "base_uri": "https://localhost:8080/"
        },
        "id": "a4Dtuvh30_zz",
        "outputId": "5da364fb-3ee2-4f3c-d94b-444acf0774cb"
      },
      "outputs": [
        {
          "output_type": "stream",
          "name": "stdout",
          "text": [
            "El ciclo hamiltoniano más corto con Recocido Simulado con alfa=0.6 es [0, 7, 1, 9, 2, 5, 3, 8, 4, 6] cuya distancia total es 47.84559201801275 unidades.\n",
            "El tiempo de Recocido Simulado fue de 0.006664752960205078 segundos.  \n",
            "\n",
            "El ciclo hamiltoniano más corto con Recocido Simulado con alfa=0.7 es [0, 7, 1, 5, 2, 8, 3, 9, 4, 6] cuya distancia total es 49.4520802917475 unidades.\n",
            "El tiempo de Recocido Simulado fue de 0.0045185089111328125 segundos.  \n",
            "\n",
            "El ciclo hamiltoniano más corto con Recocido Simulado con alfa=0.8 es [0, 7, 1, 5, 2, 8, 3, 6, 4, 9] cuya distancia total es 46.97465104457325 unidades.\n",
            "El tiempo de Recocido Simulado fue de 0.00944375991821289 segundos.  \n",
            "\n",
            "El ciclo hamiltoniano más corto con Recocido Simulado con alfa=0.9 es [0, 7, 1, 8, 2, 5, 3, 6, 4, 9] cuya distancia total es 44.898250022791295 unidades.\n",
            "El tiempo de Recocido Simulado fue de 0.009154081344604492 segundos.  \n",
            "\n"
          ]
        }
      ],
      "source": [
        "# Recocido Simulado aplicado al problema.\n",
        "\n",
        "# Se establecen las temperaturas inicial y final\n",
        "t0= 100\n",
        "tf= 0.1\n",
        "# Se calcula el tiempo inicial de la metaheurística.\n",
        "t_inicial_recocido_k_5=time.time()\n",
        "# Se aplica el algoritmo al problema para alpha=0.6 y NREP=1.\n",
        "mejor_solucion_recocido_k_5 = Recocido_simulado(solucion_inicial_k_5, grafica_bipartita_k_5, distancia_ciclo, t0, 0.6, 1, tf)\n",
        "# Se imprime el resultado final.\n",
        "print(\"El ciclo hamiltoniano más corto con Recocido Simulado con alfa=0.6 es\",mejor_solucion_recocido_k_5[0],\n",
        "      \"cuya distancia total es\",mejor_solucion_recocido_k_5[1],\"unidades.\")\n",
        "# Se imprime el tiempo total del algoritmo.\n",
        "print(\"El tiempo de Recocido Simulado fue de %s segundos. \" % (time.time() - t_inicial_recocido_k_5),\"\\n\")\n",
        "\n",
        "# Se calcula el tiempo inicial de la metaheurística.\n",
        "t_inicial_recocido_k_5_2=time.time()\n",
        "# Se aplica el algoritmo al problema para alpha=0.7 y NREP=1.\n",
        "mejor_solucion_recocido_k_5_2 = Recocido_simulado(solucion_inicial_k_5, grafica_bipartita_k_5, distancia_ciclo, t0, 0.7, 1, tf)\n",
        "# Se imprime el resultado final.\n",
        "print(\"El ciclo hamiltoniano más corto con Recocido Simulado con alfa=0.7 es\",mejor_solucion_recocido_k_5_2[0],\n",
        "      \"cuya distancia total es\",mejor_solucion_recocido_k_5_2[1],\"unidades.\")\n",
        "# Se imprime el tiempo total del algoritmo.\n",
        "print(\"El tiempo de Recocido Simulado fue de %s segundos. \" % (time.time() - t_inicial_recocido_k_5_2),\"\\n\")\n",
        "\n",
        "# Se calcula el tiempo inicial de la metaheurística.\n",
        "t_inicial_recocido_k_5_3=time.time()\n",
        "# Se aplica el algoritmo al problema para alpha=0.8 y NREP=1.\n",
        "mejor_solucion_recocido_k_5_3 = Recocido_simulado(solucion_inicial_k_5, grafica_bipartita_k_5, distancia_ciclo, t0, 0.8, 1, tf)\n",
        "# Se imprime el resultado final.\n",
        "print(\"El ciclo hamiltoniano más corto con Recocido Simulado con alfa=0.8 es\",mejor_solucion_recocido_k_5_3[0],\n",
        "      \"cuya distancia total es\",mejor_solucion_recocido_k_5_3[1],\"unidades.\")\n",
        "# Se imprime el tiempo total del algoritmo.\n",
        "print(\"El tiempo de Recocido Simulado fue de %s segundos. \" % (time.time() - t_inicial_recocido_k_5_3),\"\\n\")\n",
        "\n",
        "# Se calcula el tiempo inicial de la metaheurística.\n",
        "t_inicial_recocido_k_5_4=time.time()\n",
        "# Se aplica el algoritmo al problema para alpha=0.9 y NREP=1.\n",
        "mejor_solucion_recocido_k_5_4 = Recocido_simulado(solucion_inicial_k_5, grafica_bipartita_k_5, distancia_ciclo, t0, 0.9, 1, tf)\n",
        "# Se imprime el resultado final.\n",
        "print(\"El ciclo hamiltoniano más corto con Recocido Simulado con alfa=0.9 es\",mejor_solucion_recocido_k_5_4[0],\n",
        "      \"cuya distancia total es\",mejor_solucion_recocido_k_5_4[1],\"unidades.\")\n",
        "# Se imprime el tiempo total del algoritmo.\n",
        "print(\"El tiempo de Recocido Simulado fue de %s segundos. \" % (time.time() - t_inicial_recocido_k_5_4),\"\\n\")"
      ]
    },
    {
      "cell_type": "markdown",
      "metadata": {
        "id": "x7ZUfLHA0_z0"
      },
      "source": [
        "## Búsqueda Tabú para la gráfica bipartita completa $K_{5,5}$"
      ]
    },
    {
      "cell_type": "code",
      "execution_count": null,
      "metadata": {
        "colab": {
          "base_uri": "https://localhost:8080/"
        },
        "id": "KpkHM31-0_z0",
        "outputId": "add8eae7-75ca-49f9-b799-86b495fedef7"
      },
      "outputs": [
        {
          "output_type": "stream",
          "name": "stdout",
          "text": [
            "El ciclo hamiltoniano más corto con Búsqueda Tabú es [0, 7, 1, 8, 2, 5, 3, 6, 4, 9] cuya distancia total es 44.898250022791295 unidades.\n",
            "El tiempo de Búsqueda Tabú fue de 0.007393836975097656 segundos  \n",
            "\n",
            "El ciclo hamiltoniano más corto con Búsqueda Tabú es [0, 7, 1, 8, 2, 5, 3, 6, 4, 9] cuya distancia total es 44.898250022791295 unidades.\n",
            "El tiempo de Búsqueda Tabú fue de 0.016451120376586914 segundos  \n",
            "\n",
            "El ciclo hamiltoniano más corto con Búsqueda Tabú es [0, 7, 1, 5, 2, 8, 3, 6, 4, 9] cuya distancia total es 46.97465104457325 unidades.\n",
            "El tiempo de Búsqueda Tabú fue de 0.010137796401977539 segundos  \n",
            "\n"
          ]
        }
      ],
      "source": [
        "# Búsqueda Tabú aplicada al problema.\n",
        "\n",
        "# Se eligen aleatoriamente una cantidad de tours a prohibir.\n",
        "tours_prohibidos_k_5=random.sample(tours_totales_5, 20)\n",
        "# Se crea la lista tabú.\n",
        "lista_tabu_k_5 = []\n",
        "# Se agregan los ciclos hamiltonianos prohibidos a la lista.\n",
        "lista_tabu_k_5.append(tours_prohibidos_k_5)\n",
        "# Se elige aleatoriamente una solución inicial.\n",
        "solucion_inicial_tabu_k_5 = random.choice(tours_totales_5)\n",
        "# Se calcula el tiempo inicial de la metaheurística.\n",
        "t_inicial_tabu_k_5=time.time()\n",
        "# Se aplica el algoritmo al problema.\n",
        "mejor_solucion_tabu_k_5 = Busqueda_tabu(solucion_inicial_tabu_k_5, grafica_bipartita_k_5, distancia_ciclo, lista_tabu_k_5, 10, 1)\n",
        "# Se imprime el resultado final.\n",
        "print(\"El ciclo hamiltoniano más corto con Búsqueda Tabú es\",mejor_solucion_tabu_k_5[0],\n",
        "      \"cuya distancia total es\",mejor_solucion_tabu_k_5[1],\"unidades.\")\n",
        "# Se imprime el tiempo total del algoritmo.\n",
        "print(\"El tiempo de Búsqueda Tabú fue de %s segundos \" % (time.time() - t_inicial_tabu_k_5),\"\\n\")\n",
        "\n",
        "# Se calcula el tiempo inicial de la metaheurística.\n",
        "t_inicial_tabu_k_5_2=time.time()\n",
        "# Se aplica el algoritmo al problema.\n",
        "mejor_solucion_tabu_k_5_2 = Busqueda_tabu(solucion_inicial_tabu_k_5, grafica_bipartita_k_5, distancia_ciclo, lista_tabu_k_5, 10, 5)\n",
        "# Se imprime el resultado final.\n",
        "print(\"El ciclo hamiltoniano más corto con Búsqueda Tabú es\",mejor_solucion_tabu_k_5_2[0],\n",
        "      \"cuya distancia total es\",mejor_solucion_tabu_k_5_2[1],\"unidades.\")\n",
        "# Se imprime el tiempo total del algoritmo.\n",
        "print(\"El tiempo de Búsqueda Tabú fue de %s segundos \" % (time.time() - t_inicial_tabu_k_5_2),\"\\n\")\n",
        "\n",
        "# Se calcula el tiempo inicial de la metaheurística.\n",
        "t_inicial_tabu_k_5_3=time.time()\n",
        "# Se aplica el algoritmo al problema.\n",
        "mejor_solucion_tabu_k_5_3 = Busqueda_tabu(solucion_inicial_tabu_k_5, grafica_bipartita_k_5, distancia_ciclo, lista_tabu_k_5, 10, 10)\n",
        "# Se imprime el resultado final.\n",
        "print(\"El ciclo hamiltoniano más corto con Búsqueda Tabú es\",mejor_solucion_tabu_k_5_3[0],\n",
        "      \"cuya distancia total es\",mejor_solucion_tabu_k_5_3[1],\"unidades.\")\n",
        "# Se imprime el tiempo total del algoritmo.\n",
        "print(\"El tiempo de Búsqueda Tabú fue de %s segundos \" % (time.time() - t_inicial_tabu_k_5_3),\"\\n\")"
      ]
    },
    {
      "cell_type": "markdown",
      "metadata": {
        "id": "MWdNZKxd0_z1"
      },
      "source": [
        "## Algoritmos Genéticos para la gráfica bipartita completa $K_{5,5}$"
      ]
    },
    {
      "cell_type": "code",
      "execution_count": null,
      "metadata": {
        "colab": {
          "base_uri": "https://localhost:8080/"
        },
        "id": "T_IkFQNp0_z1",
        "outputId": "dea99154-c9cd-441b-cb2c-6b3f10246928"
      },
      "outputs": [
        {
          "output_type": "stream",
          "name": "stdout",
          "text": [
            "El ciclo hamiltoniano más corto con Algoritmos Genéticos para 20 generaciones y con tasa de mutación del 15% es [0, 7, 2, 5, 3, 8, 1, 6, 4, 9] cuya distancia total es 40.73489889753606 unidades.\n",
            "El tiempo del Algoritmo Genético fue de 0.12178683280944824 segundos  \n",
            "\n",
            "El ciclo hamiltoniano más corto con Algoritmos Genéticos para 20 generaciones y con tasa de mutación del 20% es [0, 7, 3, 8, 1, 5, 2, 6, 4, 9] cuya distancia total es 44.76938232498737 unidades.\n",
            "El tiempo del Algoritmo Genético fue de 0.14312052726745605 segundos  \n",
            "\n",
            "El ciclo hamiltoniano más corto con Algoritmos Genéticos para 20 generaciones y con tasa de mutación del 25% es [0, 7, 2, 5, 3, 8, 1, 6, 4, 9] cuya distancia total es 40.734898897536056 unidades.\n",
            "El tiempo del Algoritmo Genético fue de 0.15283846855163574 segundos  \n",
            "\n"
          ]
        }
      ],
      "source": [
        "# Algoritmo Genético aplicado al problema.\n",
        "\n",
        "\n",
        "# Se asigna el tamaño de la población que sea menor o igual a la longitud de tours_totales\n",
        "tam_poblacion_k_5 = len(tours_totales_5)\n",
        "# Se calcula el tiempo inicial de la metaheurística.\n",
        "t_inicial_genetico_k_5=time.time()\n",
        "# Se aplica el algoritmo al problema para 20 generaciones y con una tasa de mutación de 15%.\n",
        "mejor_solucion_geneticos_k_5 = algoritmo_genetico(grafica_bipartita_k_5, tours_totales_5, tam_poblacion_k_5, 20, 0.15)\n",
        "# Se imprime el resultado.\n",
        "print(\"El ciclo hamiltoniano más corto con Algoritmos Genéticos para 20 generaciones y con tasa de mutación del 15% es\", mejor_solucion_geneticos_k_5[0],\n",
        "      \"cuya distancia total es\",mejor_solucion_geneticos_k_5[1],\"unidades.\")\n",
        "# Se imprime el tiempo total del algoritmo.\n",
        "print(\"El tiempo del Algoritmo Genético fue de %s segundos \" % (time.time() - t_inicial_genetico_k_5),\"\\n\")\n",
        "# Observación. En algunos casos se llega al óptimo global. No obstante, si el valor de la función objetivo es el mismo al resto de heurísticas;\n",
        "# aunque parezca una solución diferente, en realidad es la misma.\n",
        "\n",
        "# Se calcula el tiempo inicial de la metaheurística.\n",
        "t_inicial_genetico_k_5_2=time.time()\n",
        "# Se aplica el algoritmo al problema para 20 generaciones y con una tasa de mutación de 20%.\n",
        "mejor_solucion_geneticos_k_5_2 = algoritmo_genetico(grafica_bipartita_k_5, tours_totales_5, tam_poblacion_k_5, 20, 0.2)\n",
        "# Se imprime el resultado.\n",
        "print(\"El ciclo hamiltoniano más corto con Algoritmos Genéticos para 20 generaciones y con tasa de mutación del 20% es\", mejor_solucion_geneticos_k_5_2[0],\n",
        "      \"cuya distancia total es\",mejor_solucion_geneticos_k_5_2[1],\"unidades.\")\n",
        "# Se imprime el tiempo total del algoritmo.\n",
        "print(\"El tiempo del Algoritmo Genético fue de %s segundos \" % (time.time() - t_inicial_genetico_k_5_2),\"\\n\")\n",
        "# Observación. En algunos casos se llega al óptimo global. No obstante, si el valor de la función objetivo es el mismo al resto de heurísticas;\n",
        "# aunque parezca una solución diferente, en realidad es la misma.\n",
        "\n",
        "# Se calcula el tiempo inicial de la metaheurística.\n",
        "t_inicial_genetico_k_5_3=time.time()\n",
        "# Se aplica el algoritmo al problema para 20 generaciones y con una tasa de mutación de 25%.\n",
        "mejor_solucion_geneticos_k_5_3 = algoritmo_genetico(grafica_bipartita_k_5, tours_totales_5, tam_poblacion_k_5, 20, 0.25)\n",
        "# Se imprime el resultado.\n",
        "print(\"El ciclo hamiltoniano más corto con Algoritmos Genéticos para 20 generaciones y con tasa de mutación del 25% es\", mejor_solucion_geneticos_k_5_3[0],\n",
        "      \"cuya distancia total es\",mejor_solucion_geneticos_k_5_3[1],\"unidades.\")\n",
        "# Se imprime el tiempo total del algoritmo.\n",
        "print(\"El tiempo del Algoritmo Genético fue de %s segundos \" % (time.time() - t_inicial_genetico_k_5_3),\"\\n\")\n",
        "# Observación. En algunos casos se llega al óptimo global. No obstante, si el valor de la función objetivo es el mismo al resto de heurísticas;\n",
        "# aunque parezca una solución diferente, en realidad es la misma."
      ]
    },
    {
      "cell_type": "markdown",
      "metadata": {
        "id": "EzDFYYyYiH0S"
      },
      "source": [
        "# Sección de pruebas de las metaheurísticas para la gráfica bipartita completa $K_{6,6}$"
      ]
    },
    {
      "cell_type": "markdown",
      "metadata": {
        "id": "mEsQe4nbdeWO"
      },
      "source": [
        "## Código de la gráfica bipartita completa $K_{6,6}$"
      ]
    },
    {
      "cell_type": "code",
      "execution_count": null,
      "metadata": {
        "id": "GhdH2rnPdidD"
      },
      "outputs": [],
      "source": [
        "# A continuación, se crea la matriz de distancias para la gráfica K_{6,6}.\n",
        "tam_part_7 = 6\n",
        "tam_part_8= 6\n",
        "grafica_bipartita_k_6 = distancias_grafica_bipartita(tam_part_7,tam_part_8)\n",
        "\n",
        "# Se define la lista de todos los posibles tours distintos en la gráfica $K_{6,6}$, con base en la matriz de distancias.\n",
        "tours_totales_6=vecindad_proyecto([0,6,1,7,2,8,3,9,4,10,5,11])\n",
        "tours_totales_6.append([0,6,1,7,2,8,3,9,4,10,5,11])"
      ]
    },
    {
      "cell_type": "markdown",
      "metadata": {
        "id": "4o3q7JYtYKj6"
      },
      "source": [
        "## Búsqueda Local y GRASP para la gráfica bipartita completa $K_{6,6}$"
      ]
    },
    {
      "cell_type": "code",
      "execution_count": null,
      "metadata": {
        "colab": {
          "base_uri": "https://localhost:8080/"
        },
        "id": "CAXv1sb1YKj7",
        "outputId": "1508de24-1ce9-4cdf-e354-20c84c3decc9"
      },
      "outputs": [
        {
          "output_type": "stream",
          "name": "stdout",
          "text": [
            "El ciclo hamiltoniano más corto con Búsqueda Local es [0, 11, 1, 8, 2, 6, 3, 10, 4, 9, 5, 7] cuya distancia total es 43.49777234293608 unidades.\n",
            "El tiempo de Búsqueda Local fue de 0.05435037612915039 segundos.  \n",
            "\n",
            "El ciclo hamiltoniano más corto con GRASP con Construcción V y alfa=0.3 es [0, 11, 1, 10, 2, 6, 3, 8, 4, 9, 5, 7] cuya distancia total es 45.120477543759996 unidades.\n",
            "El tiempo de GRASP con construcción V fue de 0.049306631088256836 segundos.  \n",
            "\n",
            "El ciclo hamiltoniano más corto con GRASP con Construcción V y alfa=0.5 es [0, 10, 1, 6, 2, 8, 3, 11, 4, 9, 5, 7] cuya distancia total es 49.55952371318394 unidades.\n",
            "El tiempo de GRASP con construcción V fue de 0.05492663383483887 segundos.  \n",
            "\n",
            "El ciclo hamiltoniano más corto con GRASP con Construcción V y alfa=0.7 es [0, 11, 1, 10, 2, 8, 3, 7, 4, 9, 5, 6] cuya distancia total es 46.2435469918311 unidades.\n",
            "El tiempo de GRASP con construcción V fue de 0.045110225677490234 segundos.  \n",
            "\n",
            "El ciclo hamiltoniano más corto con GRASP con Construcción V y alfa=0.9 es [0, 7, 1, 10, 2, 6, 3, 11, 4, 9, 5, 8] cuya distancia total es 47.04971169375896 unidades.\n",
            "El tiempo de GRASP con construcción V fue de 0.049574851989746094 segundos.  \n",
            "\n"
          ]
        }
      ],
      "source": [
        "# Búsqueda Local aplicada al problema.\n",
        "\n",
        "# Se calcula el tiempo inicial de la metaheurística.\n",
        "t_inicial_busqueda_local_k_6=time.time()\n",
        "# Se proporciona una solución inicial al azar.\n",
        "solucion_inicial_k_6 = random.choice(tours_totales_6)\n",
        "# Se obtiene una mejor solución, usando Búsqueda Local para cada una de las instancias.\n",
        "mejor_solucion_k_6 = Busqueda_local(solucion_inicial_k_6, grafica_bipartita_k_6, distancia_ciclo, vecindad_proyecto)\n",
        "# Se imprime la mejor solución y su distancia total.\n",
        "print(\"El ciclo hamiltoniano más corto con Búsqueda Local es\",mejor_solucion_k_6,\"cuya distancia total es\",distancia_ciclo(grafica_bipartita_k_6, mejor_solucion_k_6),\"unidades.\")\n",
        "# Se imprime el tiempo total del algoritmo.\n",
        "print(\"El tiempo de Búsqueda Local fue de %s segundos. \" % (time.time() - t_inicial_busqueda_local_k_6),\"\\n\")\n",
        "\n",
        "# GRASP con construcción V aplicado al problema.\n",
        "\n",
        "# Se calcula el tiempo inicial de la metaheurística para 10 iteraciones y alpha=0.3.\n",
        "t_inicial_grasp_v_k_6=time.time()\n",
        "# Se aplica el algoritmo al problema para la instancia seleccionada.\n",
        "mejor_solucion_grasp_v_k_6 = grasp_v(grafica_bipartita_k_6, tours_totales_6, distancia_ciclo, vecindad_proyecto, 10, 0.3)\n",
        "# Se imprime el resultado final.\n",
        "print(\"El ciclo hamiltoniano más corto con GRASP con Construcción V y alfa=0.3 es\",mejor_solucion_grasp_v_k_6[0],\n",
        "      \"cuya distancia total es\",mejor_solucion_grasp_v_k_6[1],\"unidades.\")\n",
        "# Se imprime el tiempo total del algoritmo.\n",
        "print(\"El tiempo de GRASP con construcción V fue de %s segundos. \" % (time.time() - t_inicial_grasp_v_k_6),\"\\n\")\n",
        "\n",
        "# Se calcula el tiempo inicial de la metaheurística para 10 iteraciones y alpha=0.5.\n",
        "t_inicial_grasp_v_k_6_2=time.time()\n",
        "# Se aplica el algoritmo al problema para la instancia seleccionada.\n",
        "mejor_solucion_grasp_v_k_6_2 = grasp_v(grafica_bipartita_k_6, tours_totales_6, distancia_ciclo, vecindad_proyecto, 10, 0.5)\n",
        "# Se imprime el resultado final.\n",
        "print(\"El ciclo hamiltoniano más corto con GRASP con Construcción V y alfa=0.5 es\",mejor_solucion_grasp_v_k_6_2[0],\n",
        "      \"cuya distancia total es\",mejor_solucion_grasp_v_k_6_2[1],\"unidades.\")\n",
        "# Se imprime el tiempo total del algoritmo.\n",
        "print(\"El tiempo de GRASP con construcción V fue de %s segundos. \" % (time.time() - t_inicial_grasp_v_k_6_2),\"\\n\")\n",
        "\n",
        "# Se calcula el tiempo inicial de la metaheurística para 10 iteraciones y alpha=0.7.\n",
        "t_inicial_grasp_v_k_6_3=time.time()\n",
        "# Se aplica el algoritmo al problema para la instancia seleccionada.\n",
        "mejor_solucion_grasp_v_k_6_3 = grasp_v(grafica_bipartita_k_6, tours_totales_6, distancia_ciclo, vecindad_proyecto, 10, 0.7)\n",
        "# Se imprime el resultado final.\n",
        "print(\"El ciclo hamiltoniano más corto con GRASP con Construcción V y alfa=0.7 es\",mejor_solucion_grasp_v_k_6_3[0],\n",
        "      \"cuya distancia total es\",mejor_solucion_grasp_v_k_6_3[1],\"unidades.\")\n",
        "# Se imprime el tiempo total del algoritmo.\n",
        "print(\"El tiempo de GRASP con construcción V fue de %s segundos. \" % (time.time() - t_inicial_grasp_v_k_6_3),\"\\n\")\n",
        "\n",
        "# Se calcula el tiempo inicial de la metaheurística para 10 iteraciones y alpha=0.9.\n",
        "t_inicial_grasp_v_k_6_4=time.time()\n",
        "# Se aplica el algoritmo al problema para la instancia seleccionada.\n",
        "mejor_solucion_grasp_v_k_6_4 = grasp_v(grafica_bipartita_k_6, tours_totales_6, distancia_ciclo, vecindad_proyecto, 10, 0.9)\n",
        "# Se imprime el resultado final.\n",
        "print(\"El ciclo hamiltoniano más corto con GRASP con Construcción V y alfa=0.9 es\",mejor_solucion_grasp_v_k_6_4[0],\n",
        "      \"cuya distancia total es\",mejor_solucion_grasp_v_k_6_4[1],\"unidades.\")\n",
        "# Se imprime el tiempo total del algoritmo.\n",
        "print(\"El tiempo de GRASP con construcción V fue de %s segundos. \" % (time.time() - t_inicial_grasp_v_k_6_4),\"\\n\")"
      ]
    },
    {
      "cell_type": "markdown",
      "metadata": {
        "id": "iRaYZR9TYKj9"
      },
      "source": [
        "## Recocido Simulado para la gráfica bipartita completa $K_{6,6}$"
      ]
    },
    {
      "cell_type": "code",
      "execution_count": null,
      "metadata": {
        "colab": {
          "base_uri": "https://localhost:8080/"
        },
        "id": "1FhbjcSsYKj9",
        "outputId": "ed0045ae-c4cd-4020-a51a-05635a8d9794"
      },
      "outputs": [
        {
          "output_type": "stream",
          "name": "stdout",
          "text": [
            "El ciclo hamiltoniano más corto con Recocido Simulado con alfa=0.6 es [0, 11, 1, 10, 2, 8, 3, 7, 4, 9, 5, 6] cuya distancia total es 46.2435469918311 unidades.\n",
            "El tiempo de Recocido Simulado fue de 0.054761648178100586 segundos.  \n",
            "\n",
            "El ciclo hamiltoniano más corto con Recocido Simulado con alfa=0.7 es [0, 7, 1, 8, 2, 6, 3, 10, 4, 9, 5, 11] cuya distancia total es 44.53825833750871 unidades.\n",
            "El tiempo de Recocido Simulado fue de 0.05354928970336914 segundos.  \n",
            "\n",
            "El ciclo hamiltoniano más corto con Recocido Simulado con alfa=0.8 es [0, 11, 1, 6, 2, 8, 3, 10, 4, 9, 5, 7] cuya distancia total es 44.386917339666645 unidades.\n",
            "El tiempo de Recocido Simulado fue de 0.09525418281555176 segundos.  \n",
            "\n",
            "El ciclo hamiltoniano más corto con Recocido Simulado con alfa=0.9 es [0, 11, 1, 6, 2, 8, 3, 10, 4, 9, 5, 7] cuya distancia total es 44.386917339666645 unidades.\n",
            "El tiempo de Recocido Simulado fue de 0.18825912475585938 segundos.  \n",
            "\n"
          ]
        }
      ],
      "source": [
        "# Recocido Simulado aplicado al problema.\n",
        "\n",
        "# Se establecen las temperaturas inicial y final\n",
        "t0= 100\n",
        "tf= 0.1\n",
        "# Se calcula el tiempo inicial de la metaheurística.\n",
        "t_inicial_recocido_k_6=time.time()\n",
        "# Se aplica el algoritmo al problema para alpha=0.6 y NREP=10.\n",
        "mejor_solucion_recocido_k_6 = Recocido_simulado(solucion_inicial_k_6, grafica_bipartita_k_6, distancia_ciclo, t0, 0.6, 10, tf)\n",
        "# Se imprime el resultado final.\n",
        "print(\"El ciclo hamiltoniano más corto con Recocido Simulado con alfa=0.6 es\",mejor_solucion_recocido_k_6[0],\n",
        "      \"cuya distancia total es\",mejor_solucion_recocido_k_6[1],\"unidades.\")\n",
        "# Se imprime el tiempo total del algoritmo.\n",
        "print(\"El tiempo de Recocido Simulado fue de %s segundos. \" % (time.time() - t_inicial_recocido_k_6),\"\\n\")\n",
        "\n",
        "# Se calcula el tiempo inicial de la metaheurística.\n",
        "t_inicial_recocido_k_6_2=time.time()\n",
        "# Se aplica el algoritmo al problema para alpha=0.7 y NREP=10.\n",
        "mejor_solucion_recocido_k_6_2 = Recocido_simulado(solucion_inicial_k_6, grafica_bipartita_k_6, distancia_ciclo, t0, 0.7, 10, tf)\n",
        "# Se imprime el resultado final.\n",
        "print(\"El ciclo hamiltoniano más corto con Recocido Simulado con alfa=0.7 es\",mejor_solucion_recocido_k_6_2[0],\n",
        "      \"cuya distancia total es\",mejor_solucion_recocido_k_6_2[1],\"unidades.\")\n",
        "# Se imprime el tiempo total del algoritmo.\n",
        "print(\"El tiempo de Recocido Simulado fue de %s segundos. \" % (time.time() - t_inicial_recocido_k_6_2),\"\\n\")\n",
        "\n",
        "# Se calcula el tiempo inicial de la metaheurística.\n",
        "t_inicial_recocido_k_6_3=time.time()\n",
        "# Se aplica el algoritmo al problema para alpha=0.8 y NREP=10.\n",
        "mejor_solucion_recocido_k_6_3 = Recocido_simulado(solucion_inicial_k_6, grafica_bipartita_k_6, distancia_ciclo, t0, 0.8, 10, tf)\n",
        "# Se imprime el resultado final.\n",
        "print(\"El ciclo hamiltoniano más corto con Recocido Simulado con alfa=0.8 es\",mejor_solucion_recocido_k_6_3[0],\n",
        "      \"cuya distancia total es\",mejor_solucion_recocido_k_6_3[1],\"unidades.\")\n",
        "# Se imprime el tiempo total del algoritmo.\n",
        "print(\"El tiempo de Recocido Simulado fue de %s segundos. \" % (time.time() - t_inicial_recocido_k_6_3),\"\\n\")\n",
        "\n",
        "# Se calcula el tiempo inicial de la metaheurística.\n",
        "t_inicial_recocido_k_6_4=time.time()\n",
        "# Se aplica el algoritmo al problema para alpha=0.9 y NREP=10.\n",
        "mejor_solucion_recocido_k_6_4 = Recocido_simulado(solucion_inicial_k_6, grafica_bipartita_k_6, distancia_ciclo, t0, 0.9, 10, tf)\n",
        "# Se imprime el resultado final.\n",
        "print(\"El ciclo hamiltoniano más corto con Recocido Simulado con alfa=0.9 es\",mejor_solucion_recocido_k_6_4[0],\n",
        "      \"cuya distancia total es\",mejor_solucion_recocido_k_6_4[1],\"unidades.\")\n",
        "# Se imprime el tiempo total del algoritmo.\n",
        "print(\"El tiempo de Recocido Simulado fue de %s segundos. \" % (time.time() - t_inicial_recocido_k_6_4),\"\\n\")"
      ]
    },
    {
      "cell_type": "markdown",
      "metadata": {
        "id": "VXeq2nyoYKj-"
      },
      "source": [
        "## Búsqueda Tabú para la gráfica bipartita completa $K_{6,6}$"
      ]
    },
    {
      "cell_type": "code",
      "execution_count": null,
      "metadata": {
        "colab": {
          "base_uri": "https://localhost:8080/"
        },
        "id": "MiV-hjyoYKj-",
        "outputId": "2fb59368-46a1-4e11-985e-b10a860c5f8a"
      },
      "outputs": [
        {
          "output_type": "stream",
          "name": "stdout",
          "text": [
            "El ciclo hamiltoniano más corto con Búsqueda Tabú es [0, 11, 1, 8, 2, 6, 3, 10, 4, 9, 5, 7] cuya distancia total es 43.49777234293608 unidades.\n",
            "El tiempo de Búsqueda Tabú fue de 0.05471205711364746 segundos  \n",
            "\n",
            "El ciclo hamiltoniano más corto con Búsqueda Tabú es [0, 11, 1, 6, 2, 8, 3, 10, 4, 9, 5, 7] cuya distancia total es 44.386917339666645 unidades.\n",
            "El tiempo de Búsqueda Tabú fue de 0.05108380317687988 segundos  \n",
            "\n",
            "El ciclo hamiltoniano más corto con Búsqueda Tabú es [0, 11, 1, 8, 2, 6, 3, 10, 4, 9, 5, 7] cuya distancia total es 43.49777234293608 unidades.\n",
            "El tiempo de Búsqueda Tabú fue de 0.04947710037231445 segundos  \n",
            "\n"
          ]
        }
      ],
      "source": [
        "# Búsqueda Tabú aplicada al problema.\n",
        "\n",
        "# Se eligen aleatoriamente una cantidad de tours a prohibir.\n",
        "tours_prohibidos_k_6=random.sample(tours_totales_6, 600)\n",
        "# Se crea la lista tabú.\n",
        "lista_tabu_k_6 = []\n",
        "# Se agregan los ciclos hamiltonianos prohibidos a la lista.\n",
        "lista_tabu_k_6.append(tours_prohibidos_k_6)\n",
        "# Se elige aleatoriamente una solución inicial.\n",
        "solucion_inicial_tabu_k_6 = random.choice(tours_totales_6)\n",
        "# Se calcula el tiempo inicial de la metaheurística.\n",
        "t_inicial_tabu_k_6=time.time()\n",
        "# Se aplica el algoritmo al problema.\n",
        "mejor_solucion_tabu_k_6 = Busqueda_tabu(solucion_inicial_tabu_k_6, grafica_bipartita_k_6, distancia_ciclo, lista_tabu_k_6, 10, 5)\n",
        "# Se imprime el resultado final.\n",
        "print(\"El ciclo hamiltoniano más corto con Búsqueda Tabú es\",mejor_solucion_tabu_k_6[0],\n",
        "      \"cuya distancia total es\",mejor_solucion_tabu_k_6[1],\"unidades.\")\n",
        "# Se imprime el tiempo total del algoritmo.\n",
        "print(\"El tiempo de Búsqueda Tabú fue de %s segundos \" % (time.time() - t_inicial_tabu_k_6),\"\\n\")\n",
        "\n",
        "# Se calcula el tiempo inicial de la metaheurística.\n",
        "t_inicial_tabu_k_6_2=time.time()\n",
        "# Se aplica el algoritmo al problema.\n",
        "mejor_solucion_tabu_k_6_2 = Busqueda_tabu(solucion_inicial_tabu_k_6, grafica_bipartita_k_6, distancia_ciclo, lista_tabu_k_6, 10, 10)\n",
        "# Se imprime el resultado final.\n",
        "print(\"El ciclo hamiltoniano más corto con Búsqueda Tabú es\",mejor_solucion_tabu_k_6_2[0],\n",
        "      \"cuya distancia total es\",mejor_solucion_tabu_k_6_2[1],\"unidades.\")\n",
        "# Se imprime el tiempo total del algoritmo.\n",
        "print(\"El tiempo de Búsqueda Tabú fue de %s segundos \" % (time.time() - t_inicial_tabu_k_6_2),\"\\n\")\n",
        "\n",
        "# Se calcula el tiempo inicial de la metaheurística.\n",
        "t_inicial_tabu_k_6_3=time.time()\n",
        "# Se aplica el algoritmo al problema.\n",
        "mejor_solucion_tabu_k_6_3 = Busqueda_tabu(solucion_inicial_tabu_k_6, grafica_bipartita_k_6, distancia_ciclo, lista_tabu_k_6, 10, 20)\n",
        "# Se imprime el resultado final.\n",
        "print(\"El ciclo hamiltoniano más corto con Búsqueda Tabú es\",mejor_solucion_tabu_k_6_3[0],\n",
        "      \"cuya distancia total es\",mejor_solucion_tabu_k_6_3[1],\"unidades.\")\n",
        "# Se imprime el tiempo total del algoritmo.\n",
        "print(\"El tiempo de Búsqueda Tabú fue de %s segundos \" % (time.time() - t_inicial_tabu_k_6_3),\"\\n\")"
      ]
    },
    {
      "cell_type": "markdown",
      "metadata": {
        "id": "E7wTbEaYYKj-"
      },
      "source": [
        "## Algoritmos Genéticos para la gráfica bipartita completa $K_{6,6}$"
      ]
    },
    {
      "cell_type": "code",
      "execution_count": null,
      "metadata": {
        "colab": {
          "base_uri": "https://localhost:8080/"
        },
        "id": "B_eRrJpTYKj_",
        "outputId": "949df35d-166a-4e33-c367-002b756f811d"
      },
      "outputs": [
        {
          "output_type": "stream",
          "name": "stdout",
          "text": [
            "El ciclo hamiltoniano más corto con Algoritmos Genéticos para 20 generaciones y con tasa de mutación del 15% es [0, 11, 3, 6, 4, 9, 5, 10, 1, 8, 2, 7] cuya distancia total es 40.16787272285287 unidades.\n",
            "El tiempo del Algoritmo Genético fue de 1.8142540454864502 segundos  \n",
            "\n",
            "El ciclo hamiltoniano más corto con Algoritmos Genéticos para 20 generaciones y con tasa de mutación del 20% es [0, 7, 5, 9, 4, 10, 1, 11, 3, 8, 2, 6] cuya distancia total es 40.62622870173418 unidades.\n",
            "El tiempo del Algoritmo Genético fue de 2.8981375694274902 segundos  \n",
            "\n",
            "El ciclo hamiltoniano más corto con Algoritmos Genéticos para 20 generaciones y con tasa de mutación del 25% es [0, 11, 3, 7, 1, 10, 5, 9, 4, 6, 2, 8] cuya distancia total es 40.90165741603239 unidades.\n",
            "El tiempo del Algoritmo Genético fue de 1.6715221405029297 segundos  \n",
            "\n"
          ]
        }
      ],
      "source": [
        "# Algoritmo Genético aplicado al problema.\n",
        "\n",
        "\n",
        "# Se asigna el tamaño de la población que sea menor o igual a la longitud de tours_totales\n",
        "tam_poblacion_k_6 = len(tours_totales_6)\n",
        "# Se calcula el tiempo inicial de la metaheurística.\n",
        "t_inicial_genetico_k_6=time.time()\n",
        "# Se aplica el algoritmo al problema para 20 generaciones y con una tasa de mutación de 15%.\n",
        "mejor_solucion_geneticos_k_6 = algoritmo_genetico(grafica_bipartita_k_6, tours_totales_6, tam_poblacion_k_6, 20, 0.15)\n",
        "# Se imprime el resultado.\n",
        "print(\"El ciclo hamiltoniano más corto con Algoritmos Genéticos para 20 generaciones y con tasa de mutación del 15% es\", mejor_solucion_geneticos_k_6[0],\n",
        "      \"cuya distancia total es\",mejor_solucion_geneticos_k_6[1],\"unidades.\")\n",
        "# Se imprime el tiempo total del algoritmo.\n",
        "print(\"El tiempo del Algoritmo Genético fue de %s segundos \" % (time.time() - t_inicial_genetico_k_6),\"\\n\")\n",
        "# Observación. En algunos casos se llega al óptimo global. No obstante, si el valor de la función objetivo es el mismo al resto de heurísticas;\n",
        "# aunque parezca una solución diferente, en realidad es la misma.\n",
        "\n",
        "# Se calcula el tiempo inicial de la metaheurística.\n",
        "t_inicial_genetico_k_6_2=time.time()\n",
        "# Se aplica el algoritmo al problema para 20 generaciones y con una tasa de mutación de 20%.\n",
        "mejor_solucion_geneticos_k_6_2 = algoritmo_genetico(grafica_bipartita_k_6, tours_totales_6, tam_poblacion_k_6, 20, 0.2)\n",
        "# Se imprime el resultado.\n",
        "print(\"El ciclo hamiltoniano más corto con Algoritmos Genéticos para 20 generaciones y con tasa de mutación del 20% es\", mejor_solucion_geneticos_k_6_2[0],\n",
        "      \"cuya distancia total es\",mejor_solucion_geneticos_k_6_2[1],\"unidades.\")\n",
        "# Se imprime el tiempo total del algoritmo.\n",
        "print(\"El tiempo del Algoritmo Genético fue de %s segundos \" % (time.time() - t_inicial_genetico_k_6_2),\"\\n\")\n",
        "# Observación. En algunos casos se llega al óptimo global. No obstante, si el valor de la función objetivo es el mismo al resto de heurísticas;\n",
        "# aunque parezca una solución diferente, en realidad es la misma.\n",
        "\n",
        "# Se calcula el tiempo inicial de la metaheurística.\n",
        "t_inicial_genetico_k_6_3=time.time()\n",
        "# Se aplica el algoritmo al problema para 20 generaciones y con una tasa de mutación de 25%.\n",
        "mejor_solucion_geneticos_k_6_3 = algoritmo_genetico(grafica_bipartita_k_6, tours_totales_6, tam_poblacion_k_6, 20, 0.25)\n",
        "# Se imprime el resultado.\n",
        "print(\"El ciclo hamiltoniano más corto con Algoritmos Genéticos para 20 generaciones y con tasa de mutación del 25% es\", mejor_solucion_geneticos_k_6_3[0],\n",
        "      \"cuya distancia total es\",mejor_solucion_geneticos_k_6_3[1],\"unidades.\")\n",
        "# Se imprime el tiempo total del algoritmo.\n",
        "print(\"El tiempo del Algoritmo Genético fue de %s segundos \" % (time.time() - t_inicial_genetico_k_6_3),\"\\n\")\n",
        "# Observación. En algunos casos se llega al óptimo global. No obstante, si el valor de la función objetivo es el mismo al resto de heurísticas;\n",
        "# aunque parezca una solución diferente, en realidad es la misma."
      ]
    },
    {
      "cell_type": "markdown",
      "metadata": {
        "id": "evVsq2BGiMNx"
      },
      "source": [
        "# Sección de pruebas de las metaheurísticas para la gráfica bipartita completa $K_{7,7}$"
      ]
    },
    {
      "cell_type": "markdown",
      "metadata": {
        "id": "zOaF76a9drli"
      },
      "source": [
        "## Código de la gráfica bipartita completa $K_{7,7}$"
      ]
    },
    {
      "cell_type": "code",
      "execution_count": null,
      "metadata": {
        "id": "z7C7CkxBdvoR"
      },
      "outputs": [],
      "source": [
        "# A continuación, se crea la matriz de distancias para la gráfica K_{7,7}.\n",
        "tam_part_9 = 7\n",
        "tam_part_10= 7\n",
        "grafica_bipartita_k_7 = distancias_grafica_bipartita(tam_part_9,tam_part_10)\n",
        "\n",
        "# Se define la lista de todos los posibles tours distintos en la gráfica $K_{7,7}$, con base en la matriz de distancias.\n",
        "tours_totales_7=vecindad_proyecto([0,7,1,8,2,9,3,10,4,11,5,12,6,13])\n",
        "tours_totales_7.append([0,7,1,8,2,9,3,10,4,11,5,12,6,13])"
      ]
    },
    {
      "cell_type": "markdown",
      "metadata": {
        "id": "GyutVDENcHfx"
      },
      "source": [
        "## Búsqueda Local y GRASP para la gráfica bipartita completa $K_{7,7}$"
      ]
    },
    {
      "cell_type": "code",
      "execution_count": null,
      "metadata": {
        "colab": {
          "base_uri": "https://localhost:8080/"
        },
        "id": "ott4X-75cHfx",
        "outputId": "bfe818d4-f909-4602-8170-2c4ff7a90033"
      },
      "outputs": [
        {
          "output_type": "stream",
          "name": "stdout",
          "text": [
            "El ciclo hamiltoniano más corto con Búsqueda Local es [0, 13, 1, 11, 2, 10, 3, 8, 4, 9, 5, 7, 6, 12] cuya distancia total es 58.184718617890994 unidades.\n",
            "El tiempo de Búsqueda Local fue de 0.3665289878845215 segundos.  \n",
            "\n",
            "El ciclo hamiltoniano más corto con GRASP con Construcción V y alfa=0.3 es [0, 12, 1, 9, 2, 10, 3, 11, 4, 7, 5, 8, 6, 13] cuya distancia total es 60.866373769070506 unidades.\n",
            "El tiempo de GRASP con construcción V fue de 0.39051365852355957 segundos.  \n",
            "\n",
            "El ciclo hamiltoniano más corto con GRASP con Construcción V y alfa=0.5 es [0, 13, 1, 9, 2, 10, 3, 11, 4, 8, 5, 7, 6, 12] cuya distancia total es 59.4624403917075 unidades.\n",
            "El tiempo de GRASP con construcción V fue de 0.42852330207824707 segundos.  \n",
            "\n",
            "El ciclo hamiltoniano más corto con GRASP con Construcción V y alfa=0.7 es [0, 13, 1, 7, 2, 8, 3, 11, 4, 12, 5, 10, 6, 9] cuya distancia total es 68.91076434838979 unidades.\n",
            "El tiempo de GRASP con construcción V fue de 0.35439586639404297 segundos.  \n",
            "\n",
            "El ciclo hamiltoniano más corto con GRASP con Construcción V y alfa=0.9 es [0, 11, 1, 10, 2, 13, 3, 8, 4, 12, 5, 7, 6, 9] cuya distancia total es 73.05215725370526 unidades.\n",
            "El tiempo de GRASP con construcción V fue de 0.37205934524536133 segundos.  \n",
            "\n"
          ]
        }
      ],
      "source": [
        "# Búsqueda Local aplicada al problema.\n",
        "\n",
        "# Se calcula el tiempo inicial de la metaheurística.\n",
        "t_inicial_busqueda_local_k_7=time.time()\n",
        "# Se proporciona una solución inicial al azar.\n",
        "solucion_inicial_k_7 = random.choice(tours_totales_7)\n",
        "# Se obtiene una mejor solución, usando Búsqueda Local para cada una de las instancias.\n",
        "mejor_solucion_k_7 = Busqueda_local(solucion_inicial_k_7, grafica_bipartita_k_7, distancia_ciclo, vecindad_proyecto)\n",
        "# Se imprime la mejor solución y su distancia total.\n",
        "print(\"El ciclo hamiltoniano más corto con Búsqueda Local es\",mejor_solucion_k_7,\"cuya distancia total es\",distancia_ciclo(grafica_bipartita_k_7, mejor_solucion_k_7),\"unidades.\")\n",
        "# Se imprime el tiempo total del algoritmo.\n",
        "print(\"El tiempo de Búsqueda Local fue de %s segundos. \" % (time.time() - t_inicial_busqueda_local_k_7),\"\\n\")\n",
        "\n",
        "# GRASP con construcción V aplicado al problema.\n",
        "\n",
        "# Se calcula el tiempo inicial de la metaheurística para 10 iteraciones y alpha=0.3.\n",
        "t_inicial_grasp_v_k_7=time.time()\n",
        "# Se aplica el algoritmo al problema para la instancia seleccionada.\n",
        "mejor_solucion_grasp_v_k_7 = grasp_v(grafica_bipartita_k_7, tours_totales_7, distancia_ciclo, vecindad_proyecto, 10, 0.3)\n",
        "# Se imprime el resultado final.\n",
        "print(\"El ciclo hamiltoniano más corto con GRASP con Construcción V y alfa=0.3 es\",mejor_solucion_grasp_v_k_7[0],\n",
        "      \"cuya distancia total es\",mejor_solucion_grasp_v_k_7[1],\"unidades.\")\n",
        "# Se imprime el tiempo total del algoritmo.\n",
        "print(\"El tiempo de GRASP con construcción V fue de %s segundos. \" % (time.time() - t_inicial_grasp_v_k_7),\"\\n\")\n",
        "\n",
        "# Se calcula el tiempo inicial de la metaheurística para 10 iteraciones y alpha=0.5.\n",
        "t_inicial_grasp_v_k_7_2=time.time()\n",
        "# Se aplica el algoritmo al problema para la instancia seleccionada.\n",
        "mejor_solucion_grasp_v_k_7_2 = grasp_v(grafica_bipartita_k_7, tours_totales_7, distancia_ciclo, vecindad_proyecto, 10, 0.5)\n",
        "# Se imprime el resultado final.\n",
        "print(\"El ciclo hamiltoniano más corto con GRASP con Construcción V y alfa=0.5 es\",mejor_solucion_grasp_v_k_7_2[0],\n",
        "      \"cuya distancia total es\",mejor_solucion_grasp_v_k_7_2[1],\"unidades.\")\n",
        "# Se imprime el tiempo total del algoritmo.\n",
        "print(\"El tiempo de GRASP con construcción V fue de %s segundos. \" % (time.time() - t_inicial_grasp_v_k_7_2),\"\\n\")\n",
        "\n",
        "# Se calcula el tiempo inicial de la metaheurística para 10 iteraciones y alpha=0.7.\n",
        "t_inicial_grasp_v_k_7_3=time.time()\n",
        "# Se aplica el algoritmo al problema para la instancia seleccionada.\n",
        "mejor_solucion_grasp_v_k_7_3 = grasp_v(grafica_bipartita_k_7, tours_totales_7, distancia_ciclo, vecindad_proyecto, 10, 0.7)\n",
        "# Se imprime el resultado final.\n",
        "print(\"El ciclo hamiltoniano más corto con GRASP con Construcción V y alfa=0.7 es\",mejor_solucion_grasp_v_k_7_3[0],\n",
        "      \"cuya distancia total es\",mejor_solucion_grasp_v_k_7_3[1],\"unidades.\")\n",
        "# Se imprime el tiempo total del algoritmo.\n",
        "print(\"El tiempo de GRASP con construcción V fue de %s segundos. \" % (time.time() - t_inicial_grasp_v_k_7_3),\"\\n\")\n",
        "\n",
        "# Se calcula el tiempo inicial de la metaheurística para 10 iteraciones y alpha=0.9.\n",
        "t_inicial_grasp_v_k_7_4=time.time()\n",
        "# Se aplica el algoritmo al problema para la instancia seleccionada.\n",
        "mejor_solucion_grasp_v_k_7_4 = grasp_v(grafica_bipartita_k_7, tours_totales_7, distancia_ciclo, vecindad_proyecto, 10, 0.9)\n",
        "# Se imprime el resultado final.\n",
        "print(\"El ciclo hamiltoniano más corto con GRASP con Construcción V y alfa=0.9 es\",mejor_solucion_grasp_v_k_7_4[0],\n",
        "      \"cuya distancia total es\",mejor_solucion_grasp_v_k_7_4[1],\"unidades.\")\n",
        "# Se imprime el tiempo total del algoritmo.\n",
        "print(\"El tiempo de GRASP con construcción V fue de %s segundos. \" % (time.time() - t_inicial_grasp_v_k_7_4),\"\\n\")"
      ]
    },
    {
      "cell_type": "markdown",
      "metadata": {
        "id": "wFLIXBzicHfz"
      },
      "source": [
        "## Recocido Simulado para la gráfica bipartita completa $K_{7,7}$"
      ]
    },
    {
      "cell_type": "code",
      "execution_count": null,
      "metadata": {
        "colab": {
          "base_uri": "https://localhost:8080/"
        },
        "id": "x5SPpAzLcHfz",
        "outputId": "ff6702bd-4b4b-4bc7-e4d6-1369a0d099b1"
      },
      "outputs": [
        {
          "output_type": "stream",
          "name": "stdout",
          "text": [
            "El ciclo hamiltoniano más corto con Recocido Simulado con alfa=0.6 es [0, 9, 1, 8, 2, 10, 3, 12, 4, 11, 5, 7, 6, 13] cuya distancia total es 62.905519564714524 unidades.\n",
            "El tiempo de Recocido Simulado fue de 0.7333612442016602 segundos.  \n",
            "\n",
            "El ciclo hamiltoniano más corto con Recocido Simulado con alfa=0.7 es [0, 13, 1, 11, 2, 10, 3, 7, 4, 8, 5, 9, 6, 12] cuya distancia total es 62.366997819999284 unidades.\n",
            "El tiempo de Recocido Simulado fue de 1.3845605850219727 segundos.  \n",
            "\n",
            "El ciclo hamiltoniano más corto con Recocido Simulado con alfa=0.8 es [0, 12, 1, 10, 2, 8, 3, 9, 4, 11, 5, 7, 6, 13] cuya distancia total es 62.229543985991434 unidades.\n",
            "El tiempo de Recocido Simulado fue de 2.234727621078491 segundos.  \n",
            "\n",
            "El ciclo hamiltoniano más corto con Recocido Simulado con alfa=0.9 es [0, 12, 1, 9, 2, 10, 3, 8, 4, 7, 5, 11, 6, 13] cuya distancia total es 59.62100075160353 unidades.\n",
            "El tiempo de Recocido Simulado fue de 3.314847230911255 segundos.  \n",
            "\n"
          ]
        }
      ],
      "source": [
        "# Recocido Simulado aplicado al problema.\n",
        "\n",
        "# Se establecen las temperaturas inicial y final\n",
        "t0= 100\n",
        "tf= 0.1\n",
        "# Se calcula el tiempo inicial de la metaheurística.\n",
        "t_inicial_recocido_k_7=time.time()\n",
        "# Se aplica el algoritmo al problema para alpha=0.6 y NREP=10.\n",
        "mejor_solucion_recocido_k_7 = Recocido_simulado(solucion_inicial_k_7, grafica_bipartita_k_7, distancia_ciclo, t0, 0.6, 10, tf)\n",
        "# Se imprime el resultado final.\n",
        "print(\"El ciclo hamiltoniano más corto con Recocido Simulado con alfa=0.6 es\",mejor_solucion_recocido_k_7[0],\n",
        "      \"cuya distancia total es\",mejor_solucion_recocido_k_7[1],\"unidades.\")\n",
        "# Se imprime el tiempo total del algoritmo.\n",
        "print(\"El tiempo de Recocido Simulado fue de %s segundos. \" % (time.time() - t_inicial_recocido_k_7),\"\\n\")\n",
        "\n",
        "# Se calcula el tiempo inicial de la metaheurística.\n",
        "t_inicial_recocido_k_7_2=time.time()\n",
        "# Se aplica el algoritmo al problema para alpha=0.7 y NREP=10.\n",
        "mejor_solucion_recocido_k_7_2 = Recocido_simulado(solucion_inicial_k_7, grafica_bipartita_k_7, distancia_ciclo, t0, 0.7, 10, tf)\n",
        "# Se imprime el resultado final.\n",
        "print(\"El ciclo hamiltoniano más corto con Recocido Simulado con alfa=0.7 es\",mejor_solucion_recocido_k_7_2[0],\n",
        "      \"cuya distancia total es\",mejor_solucion_recocido_k_7_2[1],\"unidades.\")\n",
        "# Se imprime el tiempo total del algoritmo.\n",
        "print(\"El tiempo de Recocido Simulado fue de %s segundos. \" % (time.time() - t_inicial_recocido_k_7_2),\"\\n\")\n",
        "\n",
        "# Se calcula el tiempo inicial de la metaheurística.\n",
        "t_inicial_recocido_k_7_3=time.time()\n",
        "# Se aplica el algoritmo al problema para alpha=0.8 y NREP=10.\n",
        "mejor_solucion_recocido_k_7_3 = Recocido_simulado(solucion_inicial_k_7, grafica_bipartita_k_7, distancia_ciclo, t0, 0.8, 10, tf)\n",
        "# Se imprime el resultado final.\n",
        "print(\"El ciclo hamiltoniano más corto con Recocido Simulado con alfa=0.8 es\",mejor_solucion_recocido_k_7_3[0],\n",
        "      \"cuya distancia total es\",mejor_solucion_recocido_k_7_3[1],\"unidades.\")\n",
        "# Se imprime el tiempo total del algoritmo.\n",
        "print(\"El tiempo de Recocido Simulado fue de %s segundos. \" % (time.time() - t_inicial_recocido_k_7_3),\"\\n\")\n",
        "\n",
        "# Se calcula el tiempo inicial de la metaheurística.\n",
        "t_inicial_recocido_k_7_4=time.time()\n",
        "# Se aplica el algoritmo al problema para alpha=0.9 y NREP=10.\n",
        "mejor_solucion_recocido_k_7_4 = Recocido_simulado(solucion_inicial_k_7, grafica_bipartita_k_7, distancia_ciclo, t0, 0.9, 10, tf)\n",
        "# Se imprime el resultado final.\n",
        "print(\"El ciclo hamiltoniano más corto con Recocido Simulado con alfa=0.9 es\",mejor_solucion_recocido_k_7_4[0],\n",
        "      \"cuya distancia total es\",mejor_solucion_recocido_k_7_4[1],\"unidades.\")\n",
        "# Se imprime el tiempo total del algoritmo.\n",
        "print(\"El tiempo de Recocido Simulado fue de %s segundos. \" % (time.time() - t_inicial_recocido_k_7_4),\"\\n\")"
      ]
    },
    {
      "cell_type": "markdown",
      "metadata": {
        "id": "M1FWLgH2cHf0"
      },
      "source": [
        "## Búsqueda Tabú para la gráfica bipartita completa $K_{7,7}$"
      ]
    },
    {
      "cell_type": "code",
      "execution_count": null,
      "metadata": {
        "colab": {
          "base_uri": "https://localhost:8080/"
        },
        "id": "E5LcXTChcHf0",
        "outputId": "26a70752-dd4b-4b90-f382-5f1126dc6c4d"
      },
      "outputs": [
        {
          "output_type": "stream",
          "name": "stdout",
          "text": [
            "El ciclo hamiltoniano más corto con Búsqueda Tabú es [0, 13, 1, 11, 2, 10, 3, 8, 4, 9, 5, 7, 6, 12] cuya distancia total es 58.184718617890994 unidades.\n",
            "El tiempo de Búsqueda Tabú fue de 0.4825780391693115 segundos  \n",
            "\n",
            "El ciclo hamiltoniano más corto con Búsqueda Tabú es [0, 13, 1, 11, 2, 10, 3, 9, 4, 8, 5, 7, 6, 12] cuya distancia total es 58.20104381965375 unidades.\n",
            "El tiempo de Búsqueda Tabú fue de 0.45330095291137695 segundos  \n",
            "\n",
            "El ciclo hamiltoniano más corto con Búsqueda Tabú es [0, 13, 1, 11, 2, 10, 3, 8, 4, 9, 5, 7, 6, 12] cuya distancia total es 58.184718617890994 unidades.\n",
            "El tiempo de Búsqueda Tabú fue de 0.46883320808410645 segundos  \n",
            "\n"
          ]
        }
      ],
      "source": [
        "# Búsqueda Tabú aplicada al problema.\n",
        "\n",
        "# Se eligen aleatoriamente una cantidad de tours a prohibir.\n",
        "tours_prohibidos_k_7=random.sample(tours_totales_7, 200)\n",
        "# Se crea la lista tabú.\n",
        "lista_tabu_k_7 = []\n",
        "# Se agregan los ciclos hamiltonianos prohibidos a la lista.\n",
        "lista_tabu_k_7.append(tours_prohibidos_k_7)\n",
        "# Se elige aleatoriamente una solución inicial.\n",
        "solucion_inicial_tabu_k_7 = random.choice(tours_totales_7)\n",
        "# Se calcula el tiempo inicial de la metaheurística.\n",
        "t_inicial_tabu_k_7=time.time()\n",
        "# Se aplica el algoritmo al problema.\n",
        "mejor_solucion_tabu_k_7 = Busqueda_tabu(solucion_inicial_tabu_k_7, grafica_bipartita_k_7, distancia_ciclo, lista_tabu_k_7, 10, 5)\n",
        "# Se imprime el resultado final.\n",
        "print(\"El ciclo hamiltoniano más corto con Búsqueda Tabú es\",mejor_solucion_tabu_k_7[0],\n",
        "      \"cuya distancia total es\",mejor_solucion_tabu_k_7[1],\"unidades.\")\n",
        "# Se imprime el tiempo total del algoritmo.\n",
        "print(\"El tiempo de Búsqueda Tabú fue de %s segundos \" % (time.time() - t_inicial_tabu_k_7),\"\\n\")\n",
        "\n",
        "# Se calcula el tiempo inicial de la metaheurística.\n",
        "t_inicial_tabu_k_7_2=time.time()\n",
        "# Se aplica el algoritmo al problema.\n",
        "mejor_solucion_tabu_k_7_2 = Busqueda_tabu(solucion_inicial_tabu_k_7, grafica_bipartita_k_7, distancia_ciclo, lista_tabu_k_7, 10, 10)\n",
        "# Se imprime el resultado final.\n",
        "print(\"El ciclo hamiltoniano más corto con Búsqueda Tabú es\",mejor_solucion_tabu_k_7_2[0],\n",
        "      \"cuya distancia total es\",mejor_solucion_tabu_k_7_2[1],\"unidades.\")\n",
        "# Se imprime el tiempo total del algoritmo.\n",
        "print(\"El tiempo de Búsqueda Tabú fue de %s segundos \" % (time.time() - t_inicial_tabu_k_7_2),\"\\n\")\n",
        "\n",
        "# Se calcula el tiempo inicial de la metaheurística.\n",
        "t_inicial_tabu_k_7_3=time.time()\n",
        "# Se aplica el algoritmo al problema.\n",
        "mejor_solucion_tabu_k_7_3 = Busqueda_tabu(solucion_inicial_tabu_k_7, grafica_bipartita_k_7, distancia_ciclo, lista_tabu_k_7, 10, 20)\n",
        "# Se imprime el resultado final.\n",
        "print(\"El ciclo hamiltoniano más corto con Búsqueda Tabú es\",mejor_solucion_tabu_k_7_3[0],\n",
        "      \"cuya distancia total es\",mejor_solucion_tabu_k_7_3[1],\"unidades.\")\n",
        "# Se imprime el tiempo total del algoritmo.\n",
        "print(\"El tiempo de Búsqueda Tabú fue de %s segundos \" % (time.time() - t_inicial_tabu_k_7_3),\"\\n\")"
      ]
    },
    {
      "cell_type": "markdown",
      "metadata": {
        "id": "6bsa9YY3cHf1"
      },
      "source": [
        "## Algoritmos Genéticos para la gráfica bipartita completa $K_{7,7}$"
      ]
    },
    {
      "cell_type": "code",
      "execution_count": null,
      "metadata": {
        "colab": {
          "base_uri": "https://localhost:8080/"
        },
        "id": "c06c-Al9cHf1",
        "outputId": "6e7e15c5-6c2b-4ac9-dba9-50c9ae7dd9e5"
      },
      "outputs": [
        {
          "output_type": "stream",
          "name": "stdout",
          "text": [
            "El ciclo hamiltoniano más corto con Algoritmos Genéticos para 20 generaciones y con tasa de mutación del 15% es [0, 13, 4, 12, 3, 8, 5, 10, 2, 7, 1, 11, 6, 9] cuya distancia total es 50.942023866023234 unidades.\n",
            "El tiempo del Algoritmo Genético fue de 5.125860214233398 segundos  \n",
            "\n",
            "El ciclo hamiltoniano más corto con Algoritmos Genéticos para 20 generaciones y con tasa de mutación del 20% es [0, 12, 1, 11, 6, 9, 4, 13, 3, 8, 5, 7, 2, 10] cuya distancia total es 54.39084637323834 unidades.\n",
            "El tiempo del Algoritmo Genético fue de 6.318444013595581 segundos  \n",
            "\n",
            "El ciclo hamiltoniano más corto con Algoritmos Genéticos para 20 generaciones y con tasa de mutación del 25% es [0, 12, 4, 10, 3, 8, 5, 9, 1, 11, 6, 7, 2, 13] cuya distancia total es 52.422110036275505 unidades.\n",
            "El tiempo del Algoritmo Genético fue de 4.9705541133880615 segundos  \n",
            "\n"
          ]
        }
      ],
      "source": [
        "# Algoritmo Genético aplicado al problema.\n",
        "\n",
        "\n",
        "# Se asigna el tamaño de la población que sea menor o igual a la longitud de tours_totales\n",
        "tam_poblacion_k_7 = len(tours_totales_7)// 4\n",
        "# Se calcula el tiempo inicial de la metaheurística.\n",
        "t_inicial_genetico_k_7=time.time()\n",
        "# Se aplica el algoritmo al problema para 20 generaciones y con una tasa de mutación de 15%.\n",
        "mejor_solucion_geneticos_k_7 = algoritmo_genetico(grafica_bipartita_k_7, tours_totales_7, tam_poblacion_k_7, 20, 0.15)\n",
        "# Se imprime el resultado.\n",
        "print(\"El ciclo hamiltoniano más corto con Algoritmos Genéticos para 20 generaciones y con tasa de mutación del 15% es\", mejor_solucion_geneticos_k_7[0],\n",
        "      \"cuya distancia total es\",mejor_solucion_geneticos_k_7[1],\"unidades.\")\n",
        "# Se imprime el tiempo total del algoritmo.\n",
        "print(\"El tiempo del Algoritmo Genético fue de %s segundos \" % (time.time() - t_inicial_genetico_k_7),\"\\n\")\n",
        "# Observación. En algunos casos se llega al óptimo global. No obstante, si el valor de la función objetivo es el mismo al resto de heurísticas;\n",
        "# aunque parezca una solución diferente, en realidad es la misma.\n",
        "\n",
        "# Se calcula el tiempo inicial de la metaheurística.\n",
        "t_inicial_genetico_k_7_2=time.time()\n",
        "# Se aplica el algoritmo al problema para 20 generaciones y con una tasa de mutación de 20%.\n",
        "mejor_solucion_geneticos_k_7_2 = algoritmo_genetico(grafica_bipartita_k_7, tours_totales_7, tam_poblacion_k_7, 20, 0.2)\n",
        "# Se imprime el resultado.\n",
        "print(\"El ciclo hamiltoniano más corto con Algoritmos Genéticos para 20 generaciones y con tasa de mutación del 20% es\", mejor_solucion_geneticos_k_7_2[0],\n",
        "      \"cuya distancia total es\",mejor_solucion_geneticos_k_7_2[1],\"unidades.\")\n",
        "# Se imprime el tiempo total del algoritmo.\n",
        "print(\"El tiempo del Algoritmo Genético fue de %s segundos \" % (time.time() - t_inicial_genetico_k_7_2),\"\\n\")\n",
        "# Observación. En algunos casos se llega al óptimo global. No obstante, si el valor de la función objetivo es el mismo al resto de heurísticas;\n",
        "# aunque parezca una solución diferente, en realidad es la misma.\n",
        "\n",
        "# Se calcula el tiempo inicial de la metaheurística.\n",
        "t_inicial_genetico_k_7_3=time.time()\n",
        "# Se aplica el algoritmo al problema para 20 generaciones y con una tasa de mutación de 25%.\n",
        "mejor_solucion_geneticos_k_7_3 = algoritmo_genetico(grafica_bipartita_k_7, tours_totales_7, tam_poblacion_k_7, 20, 0.25)\n",
        "# Se imprime el resultado.\n",
        "print(\"El ciclo hamiltoniano más corto con Algoritmos Genéticos para 20 generaciones y con tasa de mutación del 25% es\", mejor_solucion_geneticos_k_7_3[0],\n",
        "      \"cuya distancia total es\",mejor_solucion_geneticos_k_7_3[1],\"unidades.\")\n",
        "# Se imprime el tiempo total del algoritmo.\n",
        "print(\"El tiempo del Algoritmo Genético fue de %s segundos \" % (time.time() - t_inicial_genetico_k_7_3),\"\\n\")\n",
        "# Observación. En algunos casos se llega al óptimo global. No obstante, si el valor de la función objetivo es el mismo al resto de heurísticas;\n",
        "# aunque parezca una solución diferente, en realidad es la misma."
      ]
    },
    {
      "cell_type": "markdown",
      "metadata": {
        "id": "P1FSPO0ciPiH"
      },
      "source": [
        "# Sección de pruebas de las metaheurísticas para la gráfica bipartita completa $K_{8,8}$"
      ]
    },
    {
      "cell_type": "markdown",
      "metadata": {
        "id": "3zad9m4lkIsx"
      },
      "source": [
        "## Código de la gráfica bipartita completa $K_{8,8}$"
      ]
    },
    {
      "cell_type": "code",
      "execution_count": null,
      "metadata": {
        "id": "_2t15XIRkIsx"
      },
      "outputs": [],
      "source": [
        "# A continuación, se crea la matriz de distancias para la gráfica K_{8,8}.\n",
        "tam_part_11 = 8\n",
        "tam_part_12= 8\n",
        "grafica_bipartita_k_8 = distancias_grafica_bipartita(tam_part_11,tam_part_12)\n",
        "\n",
        "# Se define la lista de todos los posibles tours distintos en la gráfica $K_{8,8}$, con base en la matriz de distancias.\n",
        "tours_totales_8=vecindad_proyecto([0,8,1,9,2,10,3,11,4,12,5,13,6,14,7,15])\n",
        "tours_totales_8.append([0,8,1,9,2,10,3,11,4,12,5,13,6,14,7,15])"
      ]
    },
    {
      "cell_type": "markdown",
      "metadata": {
        "id": "Ru_l_WpSkIsy"
      },
      "source": [
        "## Búsqueda Local y GRASP para la gráfica bipartita completa $K_{8,8}$"
      ]
    },
    {
      "cell_type": "code",
      "execution_count": null,
      "metadata": {
        "colab": {
          "base_uri": "https://localhost:8080/"
        },
        "id": "fUrCl3-8kIsy",
        "outputId": "9dce5f43-e26a-40e9-a557-9d5dafbe54da"
      },
      "outputs": [
        {
          "output_type": "stream",
          "name": "stdout",
          "text": [
            "El ciclo hamiltoniano más corto con Búsqueda Local es [0, 13, 1, 9, 2, 15, 3, 11, 4, 8, 5, 12, 6, 10, 7, 14] cuya distancia total es 47.217838878689754 unidades.\n",
            "El tiempo de Búsqueda Local fue de 5.073750019073486 segundos.  \n",
            "\n",
            "El ciclo hamiltoniano más corto con GRASP con Construcción V y alfa=0.3 es [0, 14, 1, 13, 2, 15, 3, 11, 4, 12, 5, 9, 6, 10, 7, 8] cuya distancia total es 57.04515054516882 unidades.\n",
            "El tiempo de GRASP con construcción V fue de 3.455970287322998 segundos.  \n",
            "\n",
            "El ciclo hamiltoniano más corto con GRASP con Construcción V y alfa=0.5 es [0, 14, 1, 8, 2, 13, 3, 15, 4, 12, 5, 11, 6, 10, 7, 9] cuya distancia total es 66.81095958664882 unidades.\n",
            "El tiempo de GRASP con construcción V fue de 4.682171821594238 segundos.  \n",
            "\n",
            "El ciclo hamiltoniano más corto con GRASP con Construcción V y alfa=0.7 es [0, 9, 1, 8, 2, 15, 3, 10, 4, 11, 5, 13, 6, 14, 7, 12] cuya distancia total es 62.11038558150782 unidades.\n",
            "El tiempo de GRASP con construcción V fue de 3.4238266944885254 segundos.  \n",
            "\n",
            "El ciclo hamiltoniano más corto con GRASP con Construcción V y alfa=0.9 es [0, 14, 1, 8, 2, 9, 3, 10, 4, 15, 5, 11, 6, 12, 7, 13] cuya distancia total es 64.09982340730922 unidades.\n",
            "El tiempo de GRASP con construcción V fue de 3.4621100425720215 segundos.  \n",
            "\n"
          ]
        }
      ],
      "source": [
        "# Búsqueda Local aplicada al problema.\n",
        "\n",
        "# Se calcula el tiempo inicial de la metaheurística.\n",
        "t_inicial_busqueda_local_k_8=time.time()\n",
        "# Se proporciona una solución inicial al azar.\n",
        "solucion_inicial_k_8 = random.choice(tours_totales_8)\n",
        "# Se obtiene una mejor solución, usando Búsqueda Local para cada una de las instancias.\n",
        "mejor_solucion_k_8 = Busqueda_local(solucion_inicial_k_8, grafica_bipartita_k_8, distancia_ciclo, vecindad_proyecto)\n",
        "# Se imprime la mejor solución y su distancia total.\n",
        "print(\"El ciclo hamiltoniano más corto con Búsqueda Local es\",mejor_solucion_k_8,\"cuya distancia total es\",distancia_ciclo(grafica_bipartita_k_8, mejor_solucion_k_8),\"unidades.\")\n",
        "# Se imprime el tiempo total del algoritmo.\n",
        "print(\"El tiempo de Búsqueda Local fue de %s segundos. \" % (time.time() - t_inicial_busqueda_local_k_8),\"\\n\")\n",
        "\n",
        "# GRASP con construcción V aplicado al problema.\n",
        "\n",
        "# Se calcula el tiempo inicial de la metaheurística para 10 iteraciones y alpha=0.3.\n",
        "t_inicial_grasp_v_k_8=time.time()\n",
        "# Se aplica el algoritmo al problema para la instancia seleccionada.\n",
        "mejor_solucion_grasp_v_k_8 = grasp_v(grafica_bipartita_k_8, tours_totales_8, distancia_ciclo, vecindad_proyecto, 10, 0.3)\n",
        "# Se imprime el resultado final.\n",
        "print(\"El ciclo hamiltoniano más corto con GRASP con Construcción V y alfa=0.3 es\",mejor_solucion_grasp_v_k_8[0],\n",
        "      \"cuya distancia total es\",mejor_solucion_grasp_v_k_8[1],\"unidades.\")\n",
        "# Se imprime el tiempo total del algoritmo.\n",
        "print(\"El tiempo de GRASP con construcción V fue de %s segundos. \" % (time.time() - t_inicial_grasp_v_k_8),\"\\n\")\n",
        "\n",
        "# Se calcula el tiempo inicial de la metaheurística para 10 iteraciones y alpha=0.5.\n",
        "t_inicial_grasp_v_k_8_2=time.time()\n",
        "# Se aplica el algoritmo al problema para la instancia seleccionada.\n",
        "mejor_solucion_grasp_v_k_8_2 = grasp_v(grafica_bipartita_k_8, tours_totales_8, distancia_ciclo, vecindad_proyecto, 10, 0.5)\n",
        "# Se imprime el resultado final.\n",
        "print(\"El ciclo hamiltoniano más corto con GRASP con Construcción V y alfa=0.5 es\",mejor_solucion_grasp_v_k_8_2[0],\n",
        "      \"cuya distancia total es\",mejor_solucion_grasp_v_k_8_2[1],\"unidades.\")\n",
        "# Se imprime el tiempo total del algoritmo.\n",
        "print(\"El tiempo de GRASP con construcción V fue de %s segundos. \" % (time.time() - t_inicial_grasp_v_k_8_2),\"\\n\")\n",
        "\n",
        "# Se calcula el tiempo inicial de la metaheurística para 10 iteraciones y alpha=0.7.\n",
        "t_inicial_grasp_v_k_8_3=time.time()\n",
        "# Se aplica el algoritmo al problema para la instancia seleccionada.\n",
        "mejor_solucion_grasp_v_k_8_3 = grasp_v(grafica_bipartita_k_8, tours_totales_8, distancia_ciclo, vecindad_proyecto, 10, 0.7)\n",
        "# Se imprime el resultado final.\n",
        "print(\"El ciclo hamiltoniano más corto con GRASP con Construcción V y alfa=0.7 es\",mejor_solucion_grasp_v_k_8_3[0],\n",
        "      \"cuya distancia total es\",mejor_solucion_grasp_v_k_8_3[1],\"unidades.\")\n",
        "# Se imprime el tiempo total del algoritmo.\n",
        "print(\"El tiempo de GRASP con construcción V fue de %s segundos. \" % (time.time() - t_inicial_grasp_v_k_8_3),\"\\n\")\n",
        "\n",
        "# Se calcula el tiempo inicial de la metaheurística para 10 iteraciones y alpha=0.9.\n",
        "t_inicial_grasp_v_k_8_4=time.time()\n",
        "# Se aplica el algoritmo al problema para la instancia seleccionada.\n",
        "mejor_solucion_grasp_v_k_8_4 = grasp_v(grafica_bipartita_k_8, tours_totales_8, distancia_ciclo, vecindad_proyecto, 10, 0.9)\n",
        "# Se imprime el resultado final.\n",
        "print(\"El ciclo hamiltoniano más corto con GRASP con Construcción V y alfa=0.9 es\",mejor_solucion_grasp_v_k_8_4[0],\n",
        "      \"cuya distancia total es\",mejor_solucion_grasp_v_k_8_4[1],\"unidades.\")\n",
        "# Se imprime el tiempo total del algoritmo.\n",
        "print(\"El tiempo de GRASP con construcción V fue de %s segundos. \" % (time.time() - t_inicial_grasp_v_k_8_4),\"\\n\")"
      ]
    },
    {
      "cell_type": "markdown",
      "metadata": {
        "id": "5Y28Xqg3kIsz"
      },
      "source": [
        "## Recocido Simulado para la gráfica bipartita completa $K_{8,8}$"
      ]
    },
    {
      "cell_type": "code",
      "execution_count": null,
      "metadata": {
        "colab": {
          "base_uri": "https://localhost:8080/"
        },
        "id": "ozWtFgH_kIsz",
        "outputId": "8ae93ed0-c733-42c7-83e7-c837f5216aaa"
      },
      "outputs": [
        {
          "output_type": "stream",
          "name": "stdout",
          "text": [
            "El ciclo hamiltoniano más corto con Recocido Simulado con alfa=0.6 es [0, 9, 1, 8, 2, 11, 3, 12, 4, 15, 5, 14, 6, 10, 7, 13] cuya distancia total es 59.851933481452676 unidades.\n",
            "El tiempo de Recocido Simulado fue de 11.971862316131592 segundos.  \n",
            "\n",
            "El ciclo hamiltoniano más corto con Recocido Simulado con alfa=0.7 es [0, 13, 1, 8, 2, 15, 3, 11, 4, 10, 5, 12, 6, 9, 7, 14] cuya distancia total es 52.99315864500235 unidades.\n",
            "El tiempo de Recocido Simulado fue de 16.988980293273926 segundos.  \n",
            "\n",
            "El ciclo hamiltoniano más corto con Recocido Simulado con alfa=0.8 es [0, 14, 1, 9, 2, 11, 3, 15, 4, 8, 5, 12, 6, 10, 7, 13] cuya distancia total es 56.14002774039234 unidades.\n",
            "El tiempo de Recocido Simulado fue de 28.008453607559204 segundos.  \n",
            "\n",
            "El ciclo hamiltoniano más corto con Recocido Simulado con alfa=0.9 es [0, 12, 1, 9, 2, 15, 3, 10, 4, 11, 5, 8, 6, 13, 7, 14] cuya distancia total es 58.38137727383606 unidades.\n",
            "El tiempo de Recocido Simulado fue de 55.32536244392395 segundos.  \n",
            "\n"
          ]
        }
      ],
      "source": [
        "# Recocido Simulado aplicado al problema.\n",
        "\n",
        "# Se establecen las temperaturas inicial y final\n",
        "t0= 100\n",
        "tf= 0.1\n",
        "# Se calcula el tiempo inicial de la metaheurística.\n",
        "t_inicial_recocido_k_8=time.time()\n",
        "# Se aplica el algoritmo al problema para alpha=0.6 y NREP=10.\n",
        "mejor_solucion_recocido_k_8 = Recocido_simulado(solucion_inicial_k_8, grafica_bipartita_k_8, distancia_ciclo, t0, 0.6, 10, tf)\n",
        "# Se imprime el resultado final.\n",
        "print(\"El ciclo hamiltoniano más corto con Recocido Simulado con alfa=0.6 es\",mejor_solucion_recocido_k_8[0],\n",
        "      \"cuya distancia total es\",mejor_solucion_recocido_k_8[1],\"unidades.\")\n",
        "# Se imprime el tiempo total del algoritmo.\n",
        "print(\"El tiempo de Recocido Simulado fue de %s segundos. \" % (time.time() - t_inicial_recocido_k_8),\"\\n\")\n",
        "\n",
        "# Se calcula el tiempo inicial de la metaheurística.\n",
        "t_inicial_recocido_k_8_2=time.time()\n",
        "# Se aplica el algoritmo al problema para alpha=0.7 y NREP=10.\n",
        "mejor_solucion_recocido_k_8_2 = Recocido_simulado(solucion_inicial_k_8, grafica_bipartita_k_8, distancia_ciclo, t0, 0.7, 10, tf)\n",
        "# Se imprime el resultado final.\n",
        "print(\"El ciclo hamiltoniano más corto con Recocido Simulado con alfa=0.7 es\",mejor_solucion_recocido_k_8_2[0],\n",
        "      \"cuya distancia total es\",mejor_solucion_recocido_k_8_2[1],\"unidades.\")\n",
        "# Se imprime el tiempo total del algoritmo.\n",
        "print(\"El tiempo de Recocido Simulado fue de %s segundos. \" % (time.time() - t_inicial_recocido_k_8_2),\"\\n\")\n",
        "\n",
        "# Se calcula el tiempo inicial de la metaheurística.\n",
        "t_inicial_recocido_k_8_3=time.time()\n",
        "# Se aplica el algoritmo al problema para alpha=0.8 y NREP=10.\n",
        "mejor_solucion_recocido_k_8_3 = Recocido_simulado(solucion_inicial_k_8, grafica_bipartita_k_8, distancia_ciclo, t0, 0.8, 10, tf)\n",
        "# Se imprime el resultado final.\n",
        "print(\"El ciclo hamiltoniano más corto con Recocido Simulado con alfa=0.8 es\",mejor_solucion_recocido_k_8_3[0],\n",
        "      \"cuya distancia total es\",mejor_solucion_recocido_k_8_3[1],\"unidades.\")\n",
        "# Se imprime el tiempo total del algoritmo.\n",
        "print(\"El tiempo de Recocido Simulado fue de %s segundos. \" % (time.time() - t_inicial_recocido_k_8_3),\"\\n\")\n",
        "\n",
        "# Se calcula el tiempo inicial de la metaheurística.\n",
        "t_inicial_recocido_k_8_4=time.time()\n",
        "# Se aplica el algoritmo al problema para alpha=0.9 y NREP=10.\n",
        "mejor_solucion_recocido_k_8_4 = Recocido_simulado(solucion_inicial_k_8, grafica_bipartita_k_8, distancia_ciclo, t0, 0.9, 10, tf)\n",
        "# Se imprime el resultado final.\n",
        "print(\"El ciclo hamiltoniano más corto con Recocido Simulado con alfa=0.9 es\",mejor_solucion_recocido_k_8_4[0],\n",
        "      \"cuya distancia total es\",mejor_solucion_recocido_k_8_4[1],\"unidades.\")\n",
        "# Se imprime el tiempo total del algoritmo.\n",
        "print(\"El tiempo de Recocido Simulado fue de %s segundos. \" % (time.time() - t_inicial_recocido_k_8_4),\"\\n\")"
      ]
    },
    {
      "cell_type": "markdown",
      "metadata": {
        "id": "SRTVr34jkIs0"
      },
      "source": [
        "## Búsqueda Tabú para la gráfica bipartita completa $K_{8,8}$"
      ]
    },
    {
      "cell_type": "code",
      "execution_count": null,
      "metadata": {
        "colab": {
          "base_uri": "https://localhost:8080/"
        },
        "id": "9573s5k7kIs0",
        "outputId": "77361949-2528-4548-ebe1-ae8435935d5d"
      },
      "outputs": [
        {
          "output_type": "stream",
          "name": "stdout",
          "text": [
            "El ciclo hamiltoniano más corto con Búsqueda Tabú es [0, 13, 1, 9, 2, 15, 3, 11, 4, 8, 5, 12, 6, 10, 7, 14] cuya distancia total es 47.217838878689754 unidades.\n",
            "El tiempo de Búsqueda Tabú fue de 3.762289047241211 segundos  \n",
            "\n",
            "El ciclo hamiltoniano más corto con Búsqueda Tabú es [0, 13, 1, 9, 2, 15, 3, 11, 4, 12, 5, 8, 6, 10, 7, 14] cuya distancia total es 47.62848864136183 unidades.\n",
            "El tiempo de Búsqueda Tabú fue de 4.967705011367798 segundos  \n",
            "\n",
            "El ciclo hamiltoniano más corto con Búsqueda Tabú es [0, 13, 1, 9, 2, 15, 3, 11, 4, 8, 5, 12, 6, 10, 7, 14] cuya distancia total es 47.217838878689754 unidades.\n",
            "El tiempo de Búsqueda Tabú fue de 3.7797622680664062 segundos  \n",
            "\n"
          ]
        }
      ],
      "source": [
        "# Búsqueda Tabú aplicada al problema.\n",
        "\n",
        "# Se eligen aleatoriamente una cantidad de tours a prohibir.\n",
        "tours_prohibidos_k_8=random.sample(tours_totales_8, 6000)\n",
        "# Se crea la lista tabú.\n",
        "lista_tabu_k_8 = []\n",
        "# Se agregan los ciclos hamiltonianos prohibidos a la lista.\n",
        "lista_tabu_k_8.append(tours_prohibidos_k_8)\n",
        "# Se elige aleatoriamente una solución inicial.\n",
        "solucion_inicial_tabu_k_8 = random.choice(tours_totales_8)\n",
        "# Se calcula el tiempo inicial de la metaheurística.\n",
        "t_inicial_tabu_k_8=time.time()\n",
        "# Se aplica el algoritmo al problema.\n",
        "mejor_solucion_tabu_k_8 = Busqueda_tabu(solucion_inicial_tabu_k_8, grafica_bipartita_k_8, distancia_ciclo, lista_tabu_k_8, 10, 5)\n",
        "# Se imprime el resultado final.\n",
        "print(\"El ciclo hamiltoniano más corto con Búsqueda Tabú es\",mejor_solucion_tabu_k_8[0],\n",
        "      \"cuya distancia total es\",mejor_solucion_tabu_k_8[1],\"unidades.\")\n",
        "# Se imprime el tiempo total del algoritmo.\n",
        "print(\"El tiempo de Búsqueda Tabú fue de %s segundos \" % (time.time() - t_inicial_tabu_k_8),\"\\n\")\n",
        "\n",
        "# Se calcula el tiempo inicial de la metaheurística.\n",
        "t_inicial_tabu_k_8_2=time.time()\n",
        "# Se aplica el algoritmo al problema.\n",
        "mejor_solucion_tabu_k_8_2 = Busqueda_tabu(solucion_inicial_tabu_k_8, grafica_bipartita_k_8, distancia_ciclo, lista_tabu_k_8, 10, 10)\n",
        "# Se imprime el resultado final.\n",
        "print(\"El ciclo hamiltoniano más corto con Búsqueda Tabú es\",mejor_solucion_tabu_k_8_2[0],\n",
        "      \"cuya distancia total es\",mejor_solucion_tabu_k_8_2[1],\"unidades.\")\n",
        "# Se imprime el tiempo total del algoritmo.\n",
        "print(\"El tiempo de Búsqueda Tabú fue de %s segundos \" % (time.time() - t_inicial_tabu_k_8_2),\"\\n\")\n",
        "\n",
        "# Se calcula el tiempo inicial de la metaheurística.\n",
        "t_inicial_tabu_k_8_3=time.time()\n",
        "# Se aplica el algoritmo al problema.\n",
        "mejor_solucion_tabu_k_8_3 = Busqueda_tabu(solucion_inicial_tabu_k_8, grafica_bipartita_k_8, distancia_ciclo, lista_tabu_k_8, 10, 20)\n",
        "# Se imprime el resultado final.\n",
        "print(\"El ciclo hamiltoniano más corto con Búsqueda Tabú es\",mejor_solucion_tabu_k_8_3[0],\n",
        "      \"cuya distancia total es\",mejor_solucion_tabu_k_8_3[1],\"unidades.\")\n",
        "# Se imprime el tiempo total del algoritmo.\n",
        "print(\"El tiempo de Búsqueda Tabú fue de %s segundos \" % (time.time() - t_inicial_tabu_k_8_3),\"\\n\")"
      ]
    },
    {
      "cell_type": "markdown",
      "metadata": {
        "id": "KPUkarANkIs1"
      },
      "source": [
        "## Algoritmos Genéticos para la gráfica bipartita completa $K_{8,8}$"
      ]
    },
    {
      "cell_type": "code",
      "execution_count": null,
      "metadata": {
        "colab": {
          "base_uri": "https://localhost:8080/"
        },
        "id": "MCAr5CXYkIs1",
        "outputId": "586daea1-c41e-4d88-e062-1227be2f6bd4"
      },
      "outputs": [
        {
          "output_type": "stream",
          "name": "stdout",
          "text": [
            "El ciclo hamiltoniano más corto con Algoritmos Genéticos para 20 generaciones y con tasa de mutación del 15% es [0, 14, 1, 9, 2, 15, 5, 11, 3, 10, 4, 12, 6, 13, 7, 8] cuya distancia total es 51.49126360828784 unidades.\n",
            "El tiempo del Algoritmo Genético fue de 21.826042890548706 segundos  \n",
            "\n",
            "El ciclo hamiltoniano más corto con Algoritmos Genéticos para 20 generaciones y con tasa de mutación del 20% es [0, 8, 6, 14, 7, 10, 4, 12, 5, 11, 3, 15, 2, 9, 1, 13] cuya distancia total es 52.78663217048299 unidades.\n",
            "El tiempo del Algoritmo Genético fue de 20.49213933944702 segundos  \n",
            "\n",
            "El ciclo hamiltoniano más corto con Algoritmos Genéticos para 20 generaciones y con tasa de mutación del 25% es [0, 9, 7, 13, 5, 15, 2, 11, 3, 8, 4, 10, 6, 12, 1, 14] cuya distancia total es 49.61578594279667 unidades.\n",
            "El tiempo del Algoritmo Genético fue de 21.906620979309082 segundos  \n",
            "\n"
          ]
        }
      ],
      "source": [
        "# Algoritmo Genético aplicado al problema.\n",
        "\n",
        "\n",
        "# Se asigna el tamaño de la población que sea menor o igual a la longitud de tours_totales\n",
        "tam_poblacion_k_8 = len(tours_totales_8) // 16\n",
        "# Se calcula el tiempo inicial de la metaheurística.\n",
        "t_inicial_genetico_k_8=time.time()\n",
        "# Se aplica el algoritmo al problema para 20 generaciones y con una tasa de mutación de 15%.\n",
        "mejor_solucion_geneticos_k_8 = algoritmo_genetico(grafica_bipartita_k_8, tours_totales_8, tam_poblacion_k_8, 20, 0.15)\n",
        "# Se imprime el resultado.\n",
        "print(\"El ciclo hamiltoniano más corto con Algoritmos Genéticos para 20 generaciones y con tasa de mutación del 15% es\", mejor_solucion_geneticos_k_8[0],\n",
        "      \"cuya distancia total es\",mejor_solucion_geneticos_k_8[1],\"unidades.\")\n",
        "# Se imprime el tiempo total del algoritmo.\n",
        "print(\"El tiempo del Algoritmo Genético fue de %s segundos \" % (time.time() - t_inicial_genetico_k_8),\"\\n\")\n",
        "# Observación. En algunos casos se llega al óptimo global. No obstante, si el valor de la función objetivo es el mismo al resto de heurísticas;\n",
        "# aunque parezca una solución diferente, en realidad es la misma.\n",
        "\n",
        "# Se calcula el tiempo inicial de la metaheurística.\n",
        "t_inicial_genetico_k_8_2=time.time()\n",
        "# Se aplica el algoritmo al problema para 20 generaciones y con una tasa de mutación de 20%.\n",
        "mejor_solucion_geneticos_k_8_2 = algoritmo_genetico(grafica_bipartita_k_8, tours_totales_8, tam_poblacion_k_8, 20, 0.2)\n",
        "# Se imprime el resultado.\n",
        "print(\"El ciclo hamiltoniano más corto con Algoritmos Genéticos para 20 generaciones y con tasa de mutación del 20% es\", mejor_solucion_geneticos_k_8_2[0],\n",
        "      \"cuya distancia total es\",mejor_solucion_geneticos_k_8_2[1],\"unidades.\")\n",
        "# Se imprime el tiempo total del algoritmo.\n",
        "print(\"El tiempo del Algoritmo Genético fue de %s segundos \" % (time.time() - t_inicial_genetico_k_8_2),\"\\n\")\n",
        "# Observación. En algunos casos se llega al óptimo global. No obstante, si el valor de la función objetivo es el mismo al resto de heurísticas;\n",
        "# aunque parezca una solución diferente, en realidad es la misma.\n",
        "\n",
        "# Se calcula el tiempo inicial de la metaheurística.\n",
        "t_inicial_genetico_k_8_3=time.time()\n",
        "# Se aplica el algoritmo al problema para 20 generaciones y con una tasa de mutación de 25%.\n",
        "mejor_solucion_geneticos_k_8_3 = algoritmo_genetico(grafica_bipartita_k_8, tours_totales_8, tam_poblacion_k_8, 20, 0.25)\n",
        "# Se imprime el resultado.\n",
        "print(\"El ciclo hamiltoniano más corto con Algoritmos Genéticos para 20 generaciones y con tasa de mutación del 25% es\", mejor_solucion_geneticos_k_8_3[0],\n",
        "      \"cuya distancia total es\",mejor_solucion_geneticos_k_8_3[1],\"unidades.\")\n",
        "# Se imprime el tiempo total del algoritmo.\n",
        "print(\"El tiempo del Algoritmo Genético fue de %s segundos \" % (time.time() - t_inicial_genetico_k_8_3),\"\\n\")\n",
        "# Observación. En algunos casos se llega al óptimo global. No obstante, si el valor de la función objetivo es el mismo al resto de heurísticas;\n",
        "# aunque parezca una solución diferente, en realidad es la misma."
      ]
    }
  ],
  "metadata": {
    "colab": {
      "collapsed_sections": [
        "SEI1KxwNhaXX",
        "k2NAdyvVkNC2",
        "5eyMKIg3kxPB",
        "WpjRD7iZk9kl",
        "DyaXmdyplErR",
        "MK_rjQLownI1",
        "sS8xCxlvxlRO",
        "TMmx3qs0yhA_",
        "Ewh92qGXzcee",
        "f4PtSvBh0_zx",
        "xQ5iaEc90_zz",
        "x7ZUfLHA0_z0",
        "MWdNZKxd0_z1"
      ],
      "provenance": []
    },
    "kernelspec": {
      "display_name": "Python 3",
      "name": "python3"
    },
    "language_info": {
      "name": "python"
    }
  },
  "nbformat": 4,
  "nbformat_minor": 0
}